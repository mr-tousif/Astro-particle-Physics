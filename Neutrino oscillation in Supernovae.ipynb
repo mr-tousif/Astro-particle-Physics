{
 "cells": [
  {
   "cell_type": "code",
   "execution_count": 1,
   "id": "7d4508a2",
   "metadata": {},
   "outputs": [],
   "source": [
    "# Project 2: Summer Research 2022 ***\n",
    "\n",
    "# Goal: To study of collective behaviour and flavor transformation of neutrinos in Supernovae \n",
    "# Paper: PHYSICAL REVIEW D 75, 125005 (2007)\n",
    "\n",
    "# Advisor: Prof. Huyaiyu(Mike) Duan, Department of Physics & Astronomy, UNM\n",
    "# Student: Tousif Reza, Grad, Department of Physics & Astronomy, UNM"
   ]
  },
  {
   "cell_type": "markdown",
   "id": "ee3a8ca2",
   "metadata": {},
   "source": [
    "Assumptions: Monoenergetic neutrino gas with different but constant number densities initially, homogeneous and isotropic with no matter background. \n",
    "\n",
    "The equations of motion (e.o.m.) for the NFIS’s $s_1$ (neutrino) and $s_2$ (antineutrino) of this simple assymetric bipolar system are follows:\n",
    "\n",
    "\n",
    "\n",
    "$\\boxed{\\frac{ds_1}{dt}=s_1\\times(\\mu_{V,1}H_V+\\mu_\\nu n_{\\nu,2}s_2)}$ -------->>(1)\n",
    "\n",
    "$\\boxed{\\frac{ds_2}{dt}=s_2\\times(\\mu_{V,2}H_V+\\mu_\\nu n_{\\nu,1}s_1)}$ -------->>(2)\n",
    "\n",
    "\n",
    "With $n_{\\nu,1}=n_\\nu$ and $n_{\\nu,2}=\\alpha n_\\nu$ , where $\\alpha$ is assymetric parameter ($\\alpha\\neq 1$, a positive constant).\n",
    "\n",
    "\n",
    "$n_\\nu$ has a linear dependence on time, $\\boxed{n_\\nu(t)=n_\\nu(0)(1-\\gamma^{-1}\\mu_Vt)}$ -------->>(3)\n",
    "\n",
    "$\\gamma$: Adiabatic parameter\n",
    "\n",
    "\n",
    " $H_V\\equiv -\\hat e_x^f\\sin2\\theta_v+\\hat e_z^f\\cos2\\theta_v $  and   $\\mu_{V,1}=-\\mu_{V,2}\\equiv \\frac{\\delta m^2}{2E_\\nu}$ ; and $\\mu_\\nu\\equiv -2\\sqrt{2}G_F$, $G_F$ Fermi coupling constant.\n",
    " \n",
    " \n",
    " Initial conditions: $s_1(0)=-s_2(0)=\\frac{\\hat e_z^f}{2}$  ----------->>(4)\n",
    " \n",
    " \n",
    " Rewriting equation (3) as,\n",
    " \n",
    " $\\frac{n_\\nu(t)}{n_\\nu^x}=\\frac{n_\\nu(0)}{n_\\nu^x}(1-\\gamma^{-1}\\mu_Vt)$\n",
    " \n",
    " In this analysis we will use $\\frac{n_\\nu(0)}{n_\\nu^x}$=2 we get,\n",
    " \n",
    " $\\boxed{\\frac{n_\\nu(t)}{n_\\nu^x}=2(1-\\gamma^{-1}\\mu_Vt)}$   --------->>(5)\n",
    " "
   ]
  },
  {
   "cell_type": "markdown",
   "id": "9440b506",
   "metadata": {},
   "source": [
    "\n",
    "We can write eqn (1) and (2) as,\n",
    "\n",
    "\n",
    "$\\boxed{\\frac{ds_1}{dt}=s_1\\times(\\mu_V H_V+\\mu_\\nu \\alpha\\frac{n_{\\nu}}{n_\\nu^x} n_\\nu^x s_2)}$ -------->>(A)\n",
    "\n",
    "$\\boxed{\\frac{ds_2}{dt}=s_2\\times(-\\mu_V H_V+\\mu_\\nu \\frac{n_{\\nu}}{n_\\nu^x}n_\\nu^x s_1)}$ -------->>(B)\n",
    "\n",
    "$n_\\nu$ is a function of time we can put $\\frac{n_\\nu}{n_\\nu^x}$ from (5) and we have $\\boxed{ n_\\nu^x=8\\frac{1+\\alpha}{(1-\\alpha)^2}n_\\nu^0}$  ------>>(C)\n",
    "\n",
    "and $n_\\nu^0\\equiv \\frac{\\mu_V}{|\\mu_\\nu|}=\\frac{\\delta m^2}{4\\sqrt2G_F E_\\nu}$"
   ]
  },
  {
   "cell_type": "markdown",
   "id": "568d9928",
   "metadata": {},
   "source": [
    "We will solve (A) and (B) component wise for vector $s_1$ and $s_2$ .then we will take dot product with $H_V$ to find out angle between $s_1$, $s_2$ and $H_V$ \n",
    "\n",
    "Notes: $H_V\\equiv\\hat e_z^v=(0,0,1)$ \n",
    "\n",
    "We can set, $\\cos 2\\theta=1$ and $\\sin 2\\theta=0$\n",
    "\n",
    "$s_1\\times{H_V}= \\left[ {\\begin{array}{cc} i & j & k \\\\ s_{1x}& s_{1y} & s_{1z}\\\\-\\sin 2\\theta&0& \\cos2\\theta \\end{array} } \\right]=i(s_{1y}\\cos2\\theta)-j(s_{1x}\\cos2\\theta+s_{1z}sin2\\theta)+k(s_{1y}\\sin2\\theta)$\n",
    "\n",
    "$s_2\\times{H_V}= \\left[ {\\begin{array}{cc} i & j & k \\\\ s_{2x}& s_{2y} & s_{2z}\\\\-\\sin 2\\theta&0& \\cos2\\theta \\end{array} } \\right]=i(s_{2y}\\cos2\\theta)-j(s_{2x}\\cos2\\theta+s_{2z}sin2\\theta)+k(s_{2y}\\sin2\\theta)$\n",
    "\n",
    "$s_1\\times{s_2}= \\left[ {\\begin{array}{cc} i & j & k \\\\ s_{1x}& s_{1y} & s_{1z}\\\\s_{2x}&s_{2y}&s_{2z} \\end{array} } \\right]=i(s_{1y}s_{2z}-s_{2y}s_{1z})-j(s_{1x}s_{2z}-s_{2x}s_{1z})+k(s_{1x}s_{2y}-s_{2x}s_{1y})$"
   ]
  },
  {
   "cell_type": "code",
   "execution_count": 2,
   "id": "332a824d",
   "metadata": {},
   "outputs": [],
   "source": [
    "#Numerical solution for NFIS's equation of motion"
   ]
  },
  {
   "cell_type": "code",
   "execution_count": 3,
   "id": "c8b77c2b",
   "metadata": {},
   "outputs": [],
   "source": [
    "%matplotlib inline\n",
    "import numpy as np\n",
    "import scipy as sp\n",
    "from scipy.integrate import solve_ivp \n",
    "import scipy.optimize as opt\n",
    "import matplotlib.pyplot as plt"
   ]
  },
  {
   "cell_type": "markdown",
   "id": "ead2b1a5",
   "metadata": {},
   "source": [
    "We can get three equations from (A):\n",
    "\n",
    "\\begin{align}\n",
    "        \\dot{s}_{1x} &=s_{1y}\\left(\\mu_{V}+\\alpha\\mu_{\\nu}n_{\\nu}\\,s_{2z}\\right)-\\alpha\\mu_{\\nu}n_{\\nu}\\,s_{2y}\\,s_{1z} \\\\[5pt]\n",
    "        \\dot{s}_{1y} &=-s_{1x}\\left(\\mu_{V}+\\alpha\\mu_{\\nu}n_{\\nu}\\,s_{2z}\\right)+\\alpha\\mu_{\\nu}n_{\\nu}\\,s_{2x}\\,s_{1z} \\\\[5pt]\n",
    "        \\dot{s}_{1z} &=\\alpha\\mu_{\\nu}n_{\\nu}\\,s_{1x}\\,s_{2y}-\\alpha\\mu_{\\nu}n_{\\nu}\\,s_{1y}\\,s_{2x}\n",
    "    \\end{align}\n",
    "    \n",
    "and three equations from (B):\n",
    "\n",
    "\\begin{align}\n",
    "        \\dot{s}_{2x} &=s_{2y}\\left(-\\mu_{V}+\\mu_{\\nu}n_{\\nu}\\,s_{1z}\\right)-\\mu_{\\nu}n_{\\nu}\\,s_{2z}\\,s_{1y} \\\\[5pt]\n",
    "        \\dot{s}_{2y} &=-s_{2x}\\left(-\\mu_{V}+\\mu_{\\nu}n_{\\nu}\\,s_{1z}\\right)+\\mu_{\\nu}n_{\\nu}\\,s_{2z}\\,s_{1x} \\\\[5pt]\n",
    "        \\dot{s}_{2z} &=\\mu_{\\nu}n_{\\nu}\\,s_{2x}\\,s_{1y}-\\mu_{\\nu}n_{\\nu}\\,s_{2y}\\,s_{1x}.\n",
    "    \\end{align}\n",
    "    \n",
    "These are six coupled differential equation needs to solve.    \n",
    "\n",
    "\n",
    "We have (5), we need to have time information!\n",
    " \n",
    "$\\boxed{\\frac{n_\\nu(t)}{n_\\nu^x}=2(1-\\gamma^{-1}\\mu_V t)}$   \n",
    " \n",
    "$(1-\\gamma^{-1}\\mu_Vt)=\\frac{n_\\nu(t)}{2 n_\\nu^x}$ \n",
    "\n",
    "$\\gamma^{-1}\\mu_Vt=1-\\frac{n_\\nu(t)}{2 n_\\nu^x}$ \n",
    "\n",
    "$t=\\frac{\\gamma}{\\mu_V}(1-\\frac{n_\\nu(t)}{2 n_\\nu^x})$\n",
    "\n",
    "let, $R=\\frac{n_\\nu(t)}{ n_\\nu^x}$ then $t=\\frac{\\gamma}{\\mu_V}(1-\\frac{n_1}{2})$\n",
    " "
   ]
  },
  {
   "cell_type": "code",
   "execution_count": 4059,
   "id": "01b66bc7",
   "metadata": {},
   "outputs": [],
   "source": [
    "#Calculating t\n",
    "\n",
    "mu_V=1 \n",
    "\n",
    "gamma_1=40\n",
    "\n",
    "def t(n):\n",
    "    \n",
    "    return(gamma_1/mu_V)*(1-(n/2))\n",
    "\n",
    "n=np.linspace(2,0)"
   ]
  },
  {
   "cell_type": "code",
   "execution_count": 4060,
   "id": "b50c8258",
   "metadata": {},
   "outputs": [
    {
     "data": {
      "text/plain": [
       "array([ 0.        ,  0.81632653,  1.63265306,  2.44897959,  3.26530612,\n",
       "        4.08163265,  4.89795918,  5.71428571,  6.53061224,  7.34693878,\n",
       "        8.16326531,  8.97959184,  9.79591837, 10.6122449 , 11.42857143,\n",
       "       12.24489796, 13.06122449, 13.87755102, 14.69387755, 15.51020408,\n",
       "       16.32653061, 17.14285714, 17.95918367, 18.7755102 , 19.59183673,\n",
       "       20.40816327, 21.2244898 , 22.04081633, 22.85714286, 23.67346939,\n",
       "       24.48979592, 25.30612245, 26.12244898, 26.93877551, 27.75510204,\n",
       "       28.57142857, 29.3877551 , 30.20408163, 31.02040816, 31.83673469,\n",
       "       32.65306122, 33.46938776, 34.28571429, 35.10204082, 35.91836735,\n",
       "       36.73469388, 37.55102041, 38.36734694, 39.18367347, 40.        ])"
      ]
     },
     "execution_count": 4060,
     "metadata": {},
     "output_type": "execute_result"
    }
   ],
   "source": [
    "t(n)  #t is varying from 20 to 40 for gamma=40 , t has inverse of mu_V dimension\n",
    "    \n",
    "\n"
   ]
  },
  {
   "cell_type": "markdown",
   "id": "a9310214",
   "metadata": {},
   "source": [
    "For convinience, we will choose $\\mu_{V} = -\\mu_{\\nu}n_{\\nu}^0 = 1 $. These quantities have dimensions of energy. We have;\n",
    "\n",
    "\n",
    "\\begin{align}\n",
    "        \\dot{s}_{1x} &=s_{1y}\\left(\\mu_{V}+\\alpha\\mu_{\\nu}n_{\\nu}\\,s_{2z}\\right)-\\alpha\\mu_{\\nu}n_{\\nu}\\,s_{2y}\\,s_{1z} \\nonumber \\\\[5pt]\n",
    "        &=s_{1y}\\left(1-\\alpha\\left(\\frac{n_{\\nu}}{n_{\\nu}^{0}}\\right)s_{2z}\\right)+\\alpha\\left(\\frac{n_{\\nu}}{n_{\\nu}^{0}}\\right)s_{2y}\\,s_{1z} \\nonumber \\\\[5pt]\n",
    "        &=s_{1y}\\left(1-\\frac{8\\alpha(1+\\alpha)}{(1-\\alpha)^{2}}\\left(\\frac{n_{\\nu}}{n_{\\nu}^{x}}\\right)s_{2z}\\right)+\\frac{8\\alpha(1+\\alpha)}{(1-\\alpha)^{2}}\\left(\\frac{n_{\\nu}}{n_{\\nu}^{x}}\\right)s_{2y}\\,s_{1z} \\nonumber \\\\[5pt]\n",
    "        &=s_{1y}\\left(1-factor \\left(\\frac{n_{\\nu}}{n_{\\nu}^{x}}\\right)s_{2z}\\right)+\\frac{8\\alpha(1+\\alpha)}{(1-\\alpha)^{2}}\\left(\\frac{n_{\\nu}}{n_{\\nu}^{x}}\\right)s_{2y}\\,s_{1z} \\nonumber \\\\[5pt]. \n",
    "    \\end{align}\n",
    "    \n",
    "Similarly we have other equations,\n",
    "\n",
    "\\begin{align}\n",
    "         \\dot{s}_{1y} &=-s_{1x}\\left(1-factor\\,(\\frac{n_\\nu}{n_\\nu^x})s_{2z}\\right)- factor(\\frac{n_\\nu}{n_\\nu^x})\\,s_{2x}s_{1z} \\\\[5pt]\n",
    "         \\dot{s}_{1z} &=-factor \\,(\\frac{n_\\nu}{n_\\nu^x})\\,s_{1x}s_{2y}+factor\\,(\\frac{n_\\nu}{n_\\nu^x})\\,s_{1y}s_{2x} \\\\[5pt]\n",
    "         \\dot{s}_{2x} &=s_{2y}\\left(-1-\\frac{factor}{\\alpha}\\,(\\frac{n_\\nu}{n_\\nu^x})\\,s_{1z}\\right)+\\frac{factor}{\\alpha}\\,(\\frac{n_\\nu}{n_\\nu^x})\\,s_{2z}\\,s_{1y} \\\\[5pt]\n",
    "         \\dot{s}_{2y} &=-s_{2x}\\left(-1-\\frac{factor}{\\alpha}\\,(\\frac{n_\\nu}{n_\\nu^x})s_{1z}\\right)-\\frac{factor}{\\alpha}(\\frac{n_\\nu}{n_\\nu^x})s_{2z}\\,s_{1x} \\\\[5pt]\n",
    "         \\dot{s}_{2z} &=-\\frac{factor}{\\alpha}\\,(\\frac{n_\\nu}{n_\\nu^x})\\,s_{2x}\\,s_{1y}+\\frac{factor}{\\alpha}\\,(\\frac{n_\\nu}{n_\\nu^x})\\,s_{2y}\\,s_{1x}.\n",
    "     \\end{align}\n",
    "\n"
   ]
  },
  {
   "cell_type": "code",
   "execution_count": 4061,
   "id": "33a975b1",
   "metadata": {},
   "outputs": [],
   "source": [
    "#Its better to defined factor as factor_1 and 2 as our alpha's are different\n",
    "\n",
    "alpha_1 = 0.8 # asymmetry parameter\n",
    "alpha_2 = 0.2 # asymmetry parameter\n",
    "\n",
    "factor_1 = (8*alpha_1*(1 + alpha_1))/(1 - alpha_1)**2  #alpha*(n_v^x/n_v^0) Defined in eqn (C)\n",
    "factor_2 = (8*alpha_2*(1 + alpha_2))/(1 - alpha_2)**2 \n",
    "\n",
    "mu_V = 1 # gyro-magnetic ratio , unit: energy \n",
    "mu_nu_not = 1 # Taken to be unity for convenience\n",
    "theta_v_tilde = 0.01 # vacuum mixing angle  whose value lies between (0, pi/4) in inverted mass hierarchy\n"
   ]
  },
  {
   "cell_type": "code",
   "execution_count": 4062,
   "id": "bc996b21",
   "metadata": {},
   "outputs": [],
   "source": [
    "# Differential equations we want to solve for s_1 and s_2\n",
    "\n",
    "def dydt(t, y):           # t is the time, and y contains the NFIS's\n",
    "    \n",
    "    R_1= 2*(1 - t/gamma_1) # defined above in equation (5), mu_V=1 is taken , n_v/n_v^x\n",
    "    \n",
    "    s_1x = y[0] \n",
    "    s_1y = y[1]\n",
    "    s_1z = y[2]\n",
    "    s_2x = y[3]\n",
    "    s_2y = y[4]\n",
    "    s_2z = y[5]\n",
    "    \n",
    "    # Six coupled differential equations three for s_1 and others three for s_2\n",
    "    # Solving component wise simultaneouly\n",
    "    \n",
    "    ds_1xdt = s_1y * (1 - factor_1 * R_1* s_2z) +factor_1 * R_1* s_2y * s_1z\n",
    "    ds_1ydt = -s_1x * (1 - factor_1 * R_1* s_2z) -factor_1 * R_1* s_2x * s_1z \n",
    "    ds_1zdt = -factor_1 * R_1* (s_1x * s_2y - s_1y * s_2x)\n",
    "    ds_2xdt = s_2y * (-1 - (factor_1/alpha_1) * R_1* s_1z) + (factor_1/alpha_1) * R_1* s_2z * s_1y\n",
    "    ds_2ydt = -s_2x * (-1 - (factor_1/alpha_1) * R_1* s_1z) - (factor_1/alpha_1) * R_1* s_2z * s_1x\n",
    "    ds_2zdt = (-factor_1/alpha_1) * R_1* (s_2x * s_1y - s_2y * s_1x)\n",
    "    \n",
    "    return [ds_1xdt, ds_1ydt, ds_1zdt, ds_2xdt, ds_2ydt, ds_2zdt]  #returning the arrays of s_1 and s_2\n",
    "    "
   ]
  },
  {
   "cell_type": "markdown",
   "id": "04e40e20",
   "metadata": {},
   "source": [
    "It is more convenient to work on vacuum mass basis. So, we can swit from flavor basis to vacuum mass basis easily, \n",
    "\n",
    "We have following equations:\n",
    "\n",
    "$\\hat e_x^v=\\hat e_x^f\\cos 2\\theta_v+\\hat e_z^f\\sin2\\theta_v $ \n",
    "\n",
    "$\\hat e_z^v=H_V\\equiv -\\hat e_x^f\\sin 2\\theta_v+\\hat e_z^f\\cos2\\theta_v$ \n",
    "\n",
    "Initial conditions for $s_1$ and $s_2$ in Vacuum mass basis are,\n",
    " \\begin{align}\n",
    "         \\mathbf{s}_{1}(0)&=\\frac{1}{2}\\hat e_z^f=\\frac{1}{2}\\left(\\begin{array}{c}\n",
    "\\mathrm{sin}2\\theta_{v}\\\\\n",
    "0\\\\\n",
    "\\mathrm{cos}2\\theta_{v}\n",
    "\\end{array}\\right) \\\\[5pt]\n",
    "\\& \\\\[5pt]\n",
    "\\mathbf{s}_{2}(0) &=-\\frac{1}{2}\\hat e_z^f=-\\frac{1}{2}\\left(\\begin{array}{c}\n",
    "\\mathrm{sin}2\\theta_{v}\\\\\n",
    "0\\\\\n",
    "\\mathrm{cos}2\\theta_{v}\n",
    "\\end{array}\\right).\n",
    "     \\end{align}"
   ]
  },
  {
   "cell_type": "code",
   "execution_count": 4063,
   "id": "a123c8af",
   "metadata": {},
   "outputs": [],
   "source": [
    "#initial condition for s_1 and s_2:\n",
    "\n",
    "#for s_1_0=e_z^f/2 --> (s_1x,s_1y,s_1z)  , s_1x_0=s/2,  s_1y_0=0, s_1z_0=c/2\n",
    "#for s_2_0=-e_z^f/2 --> (s_2x,s_2y,s_2z) , s_2x_0=-s/2, s_2y_0=0, s_2z_0=-c/2\n",
    "\n",
    "theta=(np.pi/2)-0.01   #theta_tilde=pi/2-theta_v, where theta is Vacuum Mixing angle\n",
    "\n",
    "s=np.sin(2*theta)      #theta=theta_v\n",
    "c=np.cos(2*theta)\n",
    "\n",
    "#y0=[s_1_0,s_2_0]\n",
    "\n",
    "y0=[s/2,0,c/2,-s/2,0,-c/2]\n"
   ]
  },
  {
   "cell_type": "code",
   "execution_count": 4064,
   "id": "6c08098e",
   "metadata": {},
   "outputs": [],
   "source": [
    "# solving the differential equations\n",
    "\n",
    "t = np.linspace(0, 40, 101) # times for which we are looking for the solution\n",
    "\n",
    "sol_1 = solve_ivp(dydt, t_span=(0, 40), y0=y0, t_eval = t, rtol=1e-6, atol=1e-6) # integrating the ODEs over time\n",
    "\n"
   ]
  },
  {
   "cell_type": "markdown",
   "id": "5914c736",
   "metadata": {},
   "source": [
    "Since we know $s_1$ and $s_2$ from sol, we can take dot product with $H_V$ to find out the angle between $s_1$, $s_2$ and $H_V$ ; $H_V\\equiv\\hat e_z^v=(0,0,1)$ \n",
    "\n",
    "\\begin{align}\n",
    "        \\mathrm{cos}\\upsilon_{1} &=\\frac{\\mathbf{s}_{1}\\cdot\\mathbf{e}_{z}^{\\mathrm{v}}}{\\left\\Vert \\mathbf{s}_{1}\\right\\Vert }\\nonumber \\\\[5pt]\n",
    "        &=\\frac{s_{1z}}{\\sqrt{s_{1x}^{2}+s_{1y}^{2}+s_{1z}^{2}}} \\\\[5pt]\n",
    "        & \\& \\nonumber \\\\[5pt]\n",
    "        \\mathrm{cos}\\upsilon_{2} &=\\frac{\\mathbf{s}_{2}\\cdot\\mathbf{e}_{z}^{\\mathrm{v}}}{\\left\\Vert \\mathbf{s}_{2}\\right\\Vert } \\nonumber \\\\[5pt]\n",
    "        &=\\frac{s_{2z}}{\\sqrt{s_{2x}^{2}+s_{2y}^{2}+s_{2z}^{2}}}\n",
    "    \\end{align}"
   ]
  },
  {
   "cell_type": "code",
   "execution_count": 4065,
   "id": "fb3e6333",
   "metadata": {},
   "outputs": [],
   "source": [
    "#cos_v_1=c_1\n",
    "#cos_v_2=c_2\n",
    "\n",
    "c_1a = sol_1.y[2]/np.sqrt(sol_1.y[0]**2 + sol_1.y[1]**2 + sol_1.y[2]**2) # cos(theta_1)\n",
    "c_2a = sol_1.y[5]/np.sqrt(sol_1.y[3]**2 + sol_1.y[4]**2 + sol_1.y[5]**2) # cos(theta_2)\n"
   ]
  },
  {
   "cell_type": "code",
   "execution_count": 4066,
   "id": "553b9e8f",
   "metadata": {},
   "outputs": [],
   "source": [
    "#s_1_norm = np.sqrt(sol_1.y[0]**2 + sol_1.y[1]**2 + sol_1.y[2]**2)\n",
    "#s_2_norm = np.sqrt(sol_1.y[3]**2 + sol_1.y[4]**2 + sol_1.y[5]**2)\n"
   ]
  },
  {
   "cell_type": "code",
   "execution_count": 4067,
   "id": "c51d9488",
   "metadata": {},
   "outputs": [],
   "source": [
    "# plotting \n",
    "R_1= 2*(1 - t/gamma_1)\n",
    "#plt.plot(R_1, c_1a,\"r\", label = r'$\\mathrm{cos} \\upsilon_{1}$')\n",
    "#plt.plot(R_1, c_2a,\"g\" ,label = r'$\\mathrm{cos} \\upsilon_{2}$')\n",
    "#plt.xlim(1.25, 0.0)\n",
    "#plt.legend()\n",
    "#plt.xlabel(r'$n_{\\nu}/n_{\\nu}^{x}$')\n",
    "#plt.ylabel(r'$\\mathrm{cos}\\upsilon_{1,2}$')\n",
    "#plt.title(\"Fig a\")\n"
   ]
  },
  {
   "cell_type": "code",
   "execution_count": 4068,
   "id": "128c90ff",
   "metadata": {},
   "outputs": [],
   "source": [
    "#We will do the same analysis for theta_tilde=0.01, gamma=40 and alpha=0.2\n",
    "\n",
    "\n",
    "def dydt(t, y):           # t is the time, and y contains the NFIS's\n",
    "    \n",
    "    R_1= 2*(1 - t/gamma_1) # defined above in equation (5), mu_V=1 is taken , n_v/n_v^x\n",
    "    \n",
    "    s_1x = y[0] \n",
    "    s_1y = y[1]\n",
    "    s_1z = y[2]\n",
    "    s_2x = y[3]\n",
    "    s_2y = y[4]\n",
    "    s_2z = y[5]\n",
    "    \n",
    "    # Six coupled differential equations three for s_1 and others three for s_2\n",
    "    # Solving component wise simultaneouly\n",
    "    \n",
    "    ds_1xdt = s_1y * (1 - factor_2 * R_1* s_2z) +factor_2 * R_1* s_2y * s_1z\n",
    "    ds_1ydt = -s_1x * (1 - factor_2 * R_1* s_2z) -factor_2 * R_1* s_2x * s_1z \n",
    "    ds_1zdt = -factor_2 * R_1* (s_1x * s_2y - s_1y * s_2x)\n",
    "    ds_2xdt = s_2y * (-1 - (factor_2/alpha_2) * R_1* s_1z) + (factor_2/alpha_2) * R_1* s_2z * s_1y\n",
    "    ds_2ydt = -s_2x * (-1 - (factor_2/alpha_2) * R_1* s_1z) - (factor_2/alpha_2) * R_1* s_2z * s_1x\n",
    "    ds_2zdt = (-factor_2/alpha_2) * R_1* (s_2x * s_1y - s_2y * s_1x)\n",
    "    \n",
    "    return [ds_1xdt, ds_1ydt, ds_1zdt, ds_2xdt, ds_2ydt, ds_2zdt]  #returning the arrays of s_1 and s_2\n",
    "    \n",
    "# solving the differential equations\n",
    "\n",
    "t = np.linspace(0, 40, 101) # times for which we are looking for the solution\n",
    "\n",
    "sol_2 = solve_ivp(dydt, t_span=(0, 40), y0=y0, t_eval = t, rtol=1e-6, atol=1e-6) # integrating the ODEs over time\n"
   ]
  },
  {
   "cell_type": "code",
   "execution_count": 4069,
   "id": "7ffbef95",
   "metadata": {},
   "outputs": [],
   "source": [
    "c_1b = sol_2.y[2]/np.sqrt(sol_2.y[0]**2 + sol_2.y[1]**2 + sol_2.y[2]**2) # cos(theta_1)\n",
    "c_2b = sol_2.y[5]/np.sqrt(sol_2.y[3]**2 + sol_2.y[4]**2 + sol_2.y[5]**2) # cos(theta_2)\n"
   ]
  },
  {
   "cell_type": "code",
   "execution_count": 4070,
   "id": "ef32be4a",
   "metadata": {},
   "outputs": [],
   "source": [
    "# plotting \n",
    "\n",
    "#plt.plot(R_1, c_1b,\"r\", label = r'$\\mathrm{cos} \\upsilon_{1}$')\n",
    "#plt.plot(R_1, c_2b,\"g\" ,label = r'$\\mathrm{cos} \\upsilon_{2}$')\n",
    "#plt.xlim(1.25, 0)\n",
    "#plt.legend()\n",
    "#plt.xlabel(r'$n_{\\nu}/n_{\\nu}^{x}$')\n",
    "#plt.ylabel(r'$\\mathrm{cos}\\upsilon_{1,2}$')\n",
    "#plt.title(\"Fig b\")\n"
   ]
  },
  {
   "cell_type": "code",
   "execution_count": 4071,
   "id": "a3734fd5",
   "metadata": {},
   "outputs": [],
   "source": [
    "#We will do the same analysis for differnt theta but same alpha=0.8 and gamma=40, \n",
    "\n",
    "#theta=0.6\n",
    "#alpha_1=0.8\n",
    "#gamma_1=40\n",
    "\n",
    "def dydt(t, y):           # t is the time, and y contains the NFIS's\n",
    "    \n",
    "    R_1= 2*(1 -t/gamma_1) # defined above in equation (5), mu_V=1 is taken , n_v/n_v^x\n",
    "    \n",
    "    s_1x = y[0] \n",
    "    s_1y = y[1]\n",
    "    s_1z = y[2]\n",
    "    s_2x = y[3]\n",
    "    s_2y = y[4]\n",
    "    s_2z = y[5]\n",
    "    \n",
    "    # Six coupled differential equations three for s_1 and other three for s_2\n",
    "    # Solving component wise simultaneouly\n",
    "    \n",
    "    ds_1xdt = s_1y * (1 - factor_1 * R_1* s_2z) + factor_1 * R_1* s_2y * s_1z\n",
    "    ds_1ydt = -s_1x * (1 - factor_1 * R_1* s_2z)-factor_1 * R_1* s_2x * s_1z \n",
    "    ds_1zdt = -factor_1 * R_1* (s_1x * s_2y - s_1y * s_2x)\n",
    "    ds_2xdt = s_2y * (-1 - (factor_1/alpha_1) * R_1* s_1z) + (factor_1/alpha_1) * R_1* s_2z * s_1y\n",
    "    ds_2ydt = -s_2x * (-1 - (factor_1/alpha_1) * R_1* s_1z) - (factor_1/alpha_1) * R_1* s_2z * s_1x\n",
    "    ds_2zdt = (-factor_1/alpha_1) * R_1* (s_2x * s_1y - s_2y * s_1x)\n",
    "    \n",
    "    return [ds_1xdt, ds_1ydt, ds_1zdt, ds_2xdt, ds_2ydt, ds_2zdt]  #returning the arrays of s_1 and s_2\n",
    "    \n",
    "theta_1=0.6\n",
    "s1=np.sin(2*theta_1)\n",
    "c1=np.cos(2*theta_1)\n",
    "\n",
    "y0=[s1/2,0,c1/2,-s1/2,0,-c1/2]\n",
    "\n",
    "# solving the differential equations\n",
    "\n",
    "t = np.linspace(0, 40, 101) # times for which we are looking for the solution\n",
    "\n",
    "sol_3= solve_ivp(dydt, t_span=(0, 40), y0=y0, t_eval = t, rtol=1e-6, atol=1e-6) # integrating the ODEs over time\n"
   ]
  },
  {
   "cell_type": "code",
   "execution_count": 4072,
   "id": "8606e403",
   "metadata": {},
   "outputs": [],
   "source": [
    "c_1c = sol_3.y[2]/np.sqrt(sol_3.y[0]**2 + sol_3.y[1]**2 + sol_3.y[2]**2) # cos(theta_1)\n",
    "c_2c = sol_3.y[5]/np.sqrt(sol_3.y[3]**2 + sol_3.y[4]**2 + sol_3.y[5]**2) # cos(theta_2)\n"
   ]
  },
  {
   "cell_type": "code",
   "execution_count": 4073,
   "id": "18f6abfa",
   "metadata": {},
   "outputs": [],
   "source": [
    "# plotting \n",
    "\n",
    "#plt.plot(R_1, c_1c,\"r\", label = r'$\\mathrm{cos} \\upsilon_{1}$')\n",
    "#plt.plot(R_1, c_2c,\"g\" ,label = r'$\\mathrm{cos} \\upsilon_{2}$')\n",
    "#plt.xlim(1.1, 0)\n",
    "#plt.legend()\n",
    "#plt.xlabel(r'$n_{\\nu}/n_{\\nu}^{x}$')\n",
    "#plt.ylabel(r'$\\mathrm{cos}\\upsilon_{1,2}$')\n",
    "#plt.title(\"Fig c\")\n"
   ]
  },
  {
   "cell_type": "code",
   "execution_count": 4074,
   "id": "384bf216",
   "metadata": {},
   "outputs": [],
   "source": [
    "#solving for theta_tilde=0.01 and gamma=200 alpha=0.2"
   ]
  },
  {
   "cell_type": "code",
   "execution_count": 4075,
   "id": "3deb3ce6",
   "metadata": {},
   "outputs": [],
   "source": [
    "#time information for gamma=200\n",
    "\n",
    "alpha_2=0.2\n",
    "\n",
    "mu_V=1 \n",
    "\n",
    "gamma_2=200\n",
    "\n",
    "def t_1(n):\n",
    "    \n",
    "    return(gamma_2/mu_V)*(1-(n/2))\n",
    "\n",
    "n=np.linspace(2,0)"
   ]
  },
  {
   "cell_type": "code",
   "execution_count": 4076,
   "id": "d0e5caf1",
   "metadata": {},
   "outputs": [
    {
     "data": {
      "text/plain": [
       "array([  0.        ,   4.08163265,   8.16326531,  12.24489796,\n",
       "        16.32653061,  20.40816327,  24.48979592,  28.57142857,\n",
       "        32.65306122,  36.73469388,  40.81632653,  44.89795918,\n",
       "        48.97959184,  53.06122449,  57.14285714,  61.2244898 ,\n",
       "        65.30612245,  69.3877551 ,  73.46938776,  77.55102041,\n",
       "        81.63265306,  85.71428571,  89.79591837,  93.87755102,\n",
       "        97.95918367, 102.04081633, 106.12244898, 110.20408163,\n",
       "       114.28571429, 118.36734694, 122.44897959, 126.53061224,\n",
       "       130.6122449 , 134.69387755, 138.7755102 , 142.85714286,\n",
       "       146.93877551, 151.02040816, 155.10204082, 159.18367347,\n",
       "       163.26530612, 167.34693878, 171.42857143, 175.51020408,\n",
       "       179.59183673, 183.67346939, 187.75510204, 191.83673469,\n",
       "       195.91836735, 200.        ])"
      ]
     },
     "execution_count": 4076,
     "metadata": {},
     "output_type": "execute_result"
    }
   ],
   "source": [
    "t_1(n) #t is varying from 100 to 200 for gamma=200 , t has inverse of mu_V dimension"
   ]
  },
  {
   "cell_type": "code",
   "execution_count": 4077,
   "id": "39c884cb",
   "metadata": {},
   "outputs": [],
   "source": [
    "# Differential equations we want to solve for s_1 and s_2\n",
    "\n",
    "def dydt(t, y):  # t is the time, and y contains the NFIS's\n",
    "    \n",
    "    R_2= 2*(1 -t/gamma_2) # defined above in equation (5), mu_V=1 is taken , n_v/n_v^x\n",
    "    \n",
    "    s_1x = y[0] \n",
    "    s_1y = y[1]\n",
    "    s_1z = y[2]\n",
    "    s_2x = y[3]\n",
    "    s_2y = y[4]\n",
    "    s_2z = y[5]\n",
    "    \n",
    "    # Six coupled differential equations three for s_1 and others three for s_2\n",
    "    # Solving component wise simultaneouly\n",
    "    \n",
    "    ds_1xdt = s_1y * (1 - factor_2 * R_2* s_2z) +factor_2 * R_2* s_2y * s_1z\n",
    "    ds_1ydt = -s_1x * (1 - factor_2 * R_2* s_2z) -factor_2 * R_2* s_2x * s_1z \n",
    "    ds_1zdt = -factor_2 * R_2* (s_1x * s_2y - s_1y * s_2x)\n",
    "    ds_2xdt = s_2y * (-1 - (factor_2/alpha_2) * R_2* s_1z) + (factor_2/alpha_2) * R_2* s_2z * s_1y\n",
    "    ds_2ydt = -s_2x * (-1 - (factor_2/alpha_2) * R_2* s_1z) - (factor_2/alpha_2) * R_2* s_2z * s_1x\n",
    "    ds_2zdt = (-factor_2/alpha_2) * R_2* (s_2x * s_1y - s_2y * s_1x)\n",
    "    \n",
    "    return [ds_1xdt, ds_1ydt, ds_1zdt, ds_2xdt, ds_2ydt, ds_2zdt]  #returning the arrays of s_1 and s_2\n",
    "\n",
    "\n",
    "theta=(np.pi/2)-0.01   #theta_tilde=pi/2-theta_v, where theta is Vacuum Mixing angle\n",
    "\n",
    "s=np.sin(2*theta)      #theta=theta_v\n",
    "c=np.cos(2*theta)\n",
    "\n",
    "#y0=[s_1_0,s_2_0]\n",
    "\n",
    "y0=[s/2,0,c/2,-s/2,0,-c/2]\n",
    "\n",
    "# solving the differential equations\n",
    "\n",
    "t = np.linspace(0, 200, 101) # times for which we are looking for the solution\n",
    "\n",
    "sol_4 = solve_ivp(dydt, t_span=(0, 200), y0=y0, t_eval = t, rtol=1e-6, atol=1e-6) # integrating the ODEs over time\n",
    "\n",
    "    "
   ]
  },
  {
   "cell_type": "code",
   "execution_count": 4078,
   "id": "6d40e1f6",
   "metadata": {},
   "outputs": [],
   "source": [
    "c_1d = sol_4.y[2]/np.sqrt(sol_4.y[0]**2 + sol_4.y[1]**2 + sol_4.y[2]**2) # cos(theta_1)\n",
    "c_2d = sol_4.y[5]/np.sqrt(sol_4.y[3]**2 + sol_4.y[4]**2 + sol_4.y[5]**2) # cos(theta_2)\n"
   ]
  },
  {
   "cell_type": "code",
   "execution_count": 4079,
   "id": "fd6c6e28",
   "metadata": {},
   "outputs": [],
   "source": [
    "# plotting \n",
    "R_2=2*(1-t/gamma_2)\n",
    "#plt.plot(R_2, c_1d,\"r\", label = r'$\\mathrm{cos} \\upsilon_{1}$')\n",
    "#plt.plot(R_2, c_2d,\"g\" ,label = r'$\\mathrm{cos} \\upsilon_{2}$')\n",
    "#plt.xlim(1.25,0.0)\n",
    "#plt.legend()\n",
    "#plt.xlabel(r'$n_{\\nu}/n_{\\nu}^{x}$')\n",
    "#plt.ylabel(r'$\\mathrm{cos}\\upsilon_{1,2}$')\n",
    "#plt.title(\"Fig d\")"
   ]
  },
  {
   "cell_type": "markdown",
   "id": "0f2d25b1",
   "metadata": {},
   "source": [
    "Critical number density for neutrinos:\n",
    "\n",
    "$n_\\nu^c\\equiv \\frac{4n_\\nu^0}{(1-\\sqrt\\alpha)^2}$ and  $ n_\\nu^x=8\\frac{1+\\alpha}{(1-\\alpha)^2}n_\\nu^0$  ------>>(C)\n",
    "\n",
    "=> $ \\frac{n_\\nu^c}{n_\\nu^0}=\\frac{4}{(1-\\sqrt\\alpha)^2}$\n",
    "\n",
    "=> $ n_c=\\frac{n_\\nu^c}{n_\\nu^x}=\\frac{(1-\\alpha)^2}{2(1-\\sqrt\\alpha)^2(1+\\alpha)}$\n",
    "    "
   ]
  },
  {
   "cell_type": "code",
   "execution_count": 4080,
   "id": "a18f767e",
   "metadata": {},
   "outputs": [],
   "source": [
    "#alpha=0.8 and 0.2\n",
    "\n",
    "def n_c(alpha):  #critical number density\n",
    "    \n",
    "    numerator=(1-alpha)**2\n",
    "    \n",
    "    denominator=2*(1-np.sqrt(alpha))**2*(1+alpha)\n",
    "    \n",
    "    return numerator/denominator"
   ]
  },
  {
   "cell_type": "code",
   "execution_count": 4081,
   "id": "0ae9d146",
   "metadata": {},
   "outputs": [],
   "source": [
    "n_c_a=n_c(0.8)  # for alpha=0.8"
   ]
  },
  {
   "cell_type": "code",
   "execution_count": 4082,
   "id": "b6940733",
   "metadata": {},
   "outputs": [
    {
     "data": {
      "text/plain": [
       "0.9969039949999523"
      ]
     },
     "execution_count": 4082,
     "metadata": {},
     "output_type": "execute_result"
    }
   ],
   "source": [
    "n_c_a"
   ]
  },
  {
   "cell_type": "code",
   "execution_count": 4083,
   "id": "ffc7c64b",
   "metadata": {},
   "outputs": [],
   "source": [
    "n_c_b=n_c(0.2)  #for alpha=0.2"
   ]
  },
  {
   "cell_type": "code",
   "execution_count": 4084,
   "id": "3d48f67e",
   "metadata": {},
   "outputs": [
    {
     "data": {
      "text/plain": [
       "0.8726779962499649"
      ]
     },
     "execution_count": 4084,
     "metadata": {},
     "output_type": "execute_result"
    }
   ],
   "source": [
    "n_c_b"
   ]
  },
  {
   "cell_type": "code",
   "execution_count": 4085,
   "id": "5b4777df",
   "metadata": {},
   "outputs": [
    {
     "data": {
      "image/png": "[encoded data removed]",
      "text/plain": [
       "<Figure size 864x720 with 4 Axes>"
      ]
     },
     "metadata": {
      "needs_background": "light"
     },
     "output_type": "display_data"
    }
   ],
   "source": [
    "#2D Plots\n",
    "#plotting together\n",
    "\n",
    "fig,axes=plt.subplots(2,2,figsize=(12,10))\n",
    "\n",
    "ax=axes[0][0]\n",
    "ax.plot(R_1,c_1a,\"r--\",lw=2, label=\"$\\cosv_2$\")\n",
    "ax.plot(R_1,c_2a,\"g-\",lw=2, label=\"$\\cosv_1$\")\n",
    "ax.set_ylabel(\"$\\cosv_{1,2}$\")\n",
    "ax.set_xlabel(\"R=$\\dfrac{\\eta_v}{\\eta_v^x}$\")\n",
    "ax.legend(loc=\"upper right\",edgecolor='black')\n",
    "ax.set_xlim(1.4,0.0)\n",
    "ax.set_ylim(-1,1)\n",
    "ax.set_title(\"Fig a\")\n",
    "ax.grid()\n",
    "ax.minorticks_on()\n",
    "fig.tight_layout()\n",
    "\n",
    "\n",
    "ax=axes[0][1]\n",
    "ax.plot(R_1,c_1b,\"r--\",lw=2, label=\"$\\cosv_2$\")\n",
    "ax.plot(R_1,c_2b,\"g-\",lw=2, label=\"$\\cosv_1$\")\n",
    "ax.set_ylabel(\"$\\cosv_{1,2}$\")\n",
    "ax.set_xlabel(\"R=$\\dfrac{\\eta_v}{\\eta_v^x}$\")\n",
    "ax.legend(loc=\"upper right\",edgecolor='black')\n",
    "ax.set_xlim(1.4,0.0)\n",
    "ax.set_ylim(-1,1)\n",
    "ax.set_title(\"Fig b\")\n",
    "ax.grid()\n",
    "ax.minorticks_on()\n",
    "fig.tight_layout()\n",
    "\n",
    "\n",
    "\n",
    "ax=axes[1][0]\n",
    "ax.plot(R_1,c_1c,\"r--\",lw=2, label=\"$\\cosv_2$\")\n",
    "ax.plot(R_1,c_2c,\"g-\",lw=2, label=\"$\\cosv_1$\")\n",
    "ax.set_ylabel(\"$\\cosv_{1,2}$\")\n",
    "ax.set_xlabel(\"R=$\\dfrac{\\eta_v}{\\eta_v^x}$\")\n",
    "ax.legend(loc=\"upper right\",edgecolor='black')\n",
    "ax.set_xlim(1.4,0.0)\n",
    "ax.set_ylim(-1,1)\n",
    "ax.set_title(\"Fig c\")\n",
    "ax.grid()\n",
    "ax.minorticks_on()\n",
    "fig.tight_layout()\n",
    "\n",
    "\n",
    "ax=axes[1][1]\n",
    "ax.plot(R_2,c_1d,\"r--\",lw=2, label=\"$\\cosv_2$\")\n",
    "ax.plot(R_2,c_2d,\"g-\",lw=2, label=\"$\\cosv_1$\")\n",
    "ax.set_ylabel(\"$\\cosv_{1,2}$\")\n",
    "ax.set_xlabel(\"R=$\\dfrac{\\eta_v}{\\eta_v^x}$\")\n",
    "ax.legend(loc=\"upper right\",edgecolor='black')\n",
    "ax.set_xlim(1.4,0.0)\n",
    "ax.set_ylim(-1,1)\n",
    "ax.set_title(\"Fig d\")\n",
    "ax.grid()\n",
    "ax.minorticks_on()\n",
    "fig.tight_layout()\n",
    "\n"
   ]
  },
  {
   "cell_type": "markdown",
   "id": "4cafaecc",
   "metadata": {},
   "source": [
    "Comments: Above plots are the numerical solution of NFIS's EoM"
   ]
  },
  {
   "cell_type": "code",
   "execution_count": 4086,
   "id": "91ad8ebf",
   "metadata": {},
   "outputs": [],
   "source": [
    "#Analytical solution for NFIS's equation of motion:"
   ]
  },
  {
   "cell_type": "markdown",
   "id": "b9e3c1a5",
   "metadata": {},
   "source": [
    "We have the following equations: --->>                                Eqn.66 in PHYSICAL REVIEW D 75, 125005 (2007)\n",
    "\n",
    "\n",
    "\n",
    "\n",
    "$4\\sin\\upsilon_{1}\\sin\\upsilon_{2}=-\\frac{\\eta_{\\nu}}{\\eta^0_{\\nu}}(\\sin\\upsilon_1-\\alpha\\sin\\upsilon_2)\\sin(\\upsilon_1+\\upsilon_2)$                       ----->> (1)\n",
    "\n",
    "$(1-\\alpha)\\cos2\\theta_v=\\cos\\upsilon_1+\\alpha\\cos\\upsilon_2$      --------- >> (2)\n",
    "\n",
    "Rewriting the equation (1) as,\n",
    " \n",
    "$4\\sin\\upsilon_{1}\\sin\\upsilon_{2}=-\\frac{\\frac{\\eta_{\\nu}}{\\eta^x_\\nu}}{\\frac{\\eta^0_{\\nu}}{\\eta^x_\\nu}}(\\sin\\upsilon_1-\\alpha\\sin\\upsilon_2)\\sin(\\upsilon_1+\\upsilon_2)$  \n",
    "\n",
    "Further,\n",
    "\n",
    "$4\\sin\\upsilon_{1}\\sin\\upsilon_{2}=-\\frac{\\frac{\\eta_{\\nu}}{\\eta^x_\\nu}}{\\frac{\\eta^0_{\\nu}}{\\eta^x_\\nu}}(\\sin\\upsilon_1-\\alpha\\sin\\upsilon_2)(\\sin\\upsilon_1\\cos\\upsilon_2+\\cos\\upsilon_1\\sin\\upsilon_2)$   \n",
    "\n",
    "$\\frac{4\\sin\\upsilon_{1}\\sin\\upsilon_{2}}{-\\frac{\\frac{\\eta_{\\nu}}{\\eta^x_\\nu}}{\\frac{\\eta^0_{\\nu}}{\\eta^x_\\nu}}(\\sin\\upsilon_1-\\alpha\\sin\\upsilon_2)}=\\cos\\upsilon_1\\sin\\upsilon_2+\\sin\\upsilon_1\\cos\\upsilon_2$  --------->>(3)\n",
    "\n",
    "\n",
    "\n",
    "\n",
    "Given Parameters:\n",
    "\n",
    "$\\alpha$ is asymmetry parameter whose values are 0.2 and 0.8 \n",
    "\n",
    "\n",
    "$\\tilde\\theta_v=0.01$,\n",
    "$\\theta_v=0.6$\n",
    "\n",
    "\n",
    "where, $\\tilde\\theta_v=\\pi/2 - \\theta_v$\n",
    "\n",
    "${\\frac{\\eta^0_{\\nu}}{\\eta^x_\\nu}}=\\frac{(1-\\alpha)^2}{8(1+\\alpha)}=r$ and  $\\frac{\\eta_{\\nu}}{\\eta^x_\\nu}=R$ \n",
    "\n",
    "\n",
    "\n",
    "\n",
    "\n",
    "we can write  (2) as,\n",
    "\n",
    "$\\boxed{f(\\cos\\upsilon_1,\\cos\\upsilon_2)=\\cos\\upsilon_1+\\alpha\\cos\\upsilon_2-(1-\\alpha)\\cos2\\theta_v=0}$   -------->>(4) \n",
    "\n",
    "\n",
    "\n",
    "\n",
    "Further we can simply (3) by replacing all the sine terms by cosines, we have;\n",
    "\n",
    "$\\frac{4\\sqrt(1-\\cos\\upsilon^2_{1})\\sqrt(1-\\cos\\upsilon^2_{2})}{-\\frac{\\frac{\\eta_{\\nu}}{\\eta^x_\\nu}}{\\frac{\\eta^0_{\\nu}}{\\eta^x_\\nu}}(\\sqrt(1-\\cos\\upsilon^2_1)-\\alpha\\sqrt(1-\\cos\\upsilon^2_2))}=\\cos\\upsilon_1\\sqrt(1-\\cos\\upsilon^2_2)+\\sqrt(1-\\cos\\upsilon^2_1)\\cos\\upsilon_2$    ----->>(5)\n",
    "\n",
    "finally we can write (5) as;\n",
    "\n",
    "$f(\\cos\\upsilon_1,\\cos\\upsilon_2)=\\cos\\upsilon_1\\sqrt(1-\\cos\\upsilon^2_2)+\\sqrt(1-\\cos\\upsilon^2_1)\\cos\\upsilon_2-\\frac{4\\sqrt(1-\\cos\\upsilon^2_{1})\\sqrt(1-\\cos\\upsilon^2_{2})}{-\\frac{\\frac{\\eta_{\\nu}}{\\eta^x_\\nu}}{\\frac{\\eta^0_{\\nu}}{\\eta^x_\\nu}}(\\sqrt(1-\\cos\\upsilon^2_1)-\\alpha\\sqrt(1-\\cos\\upsilon^2_2))}=0$  ------(6)\n",
    "\n",
    "\n",
    "\n",
    "\n",
    "\n",
    "Using definiton of r and R define above , (6) takes the form,\n",
    "\n",
    "\n",
    "$\\boxed{f(\\cos\\upsilon_1,\\cos\\upsilon_2)=\\cos\\upsilon_1\\sqrt(1-\\cos\\upsilon^2_2)+\\sqrt(1-\\cos\\upsilon^2_1)\\cos\\upsilon_2+\\frac{4r\\sqrt(1-\\cos\\upsilon^2_{1})\\sqrt(1-\\cos\\upsilon^2_{2})}{{R}(\\sqrt(1-\\cos\\upsilon^2_1)-\\alpha\\sqrt(1-\\cos\\upsilon^2_2))}=0}$ ----->>(7)\n",
    "\n",
    "\n",
    "We will solve (4) and (7) for $\\cos\\upsilon_1$ and $\\cos\\upsilon_2$ for given r, R, theta and alpha.\n",
    "\n",
    "Note: In this analysis, we will use R as a input parameter for which we will examine the $\\cos\\upsilon_1$ and $\\cos\\upsilon_2$  dependence."
   ]
  },
  {
   "cell_type": "code",
   "execution_count": 4087,
   "id": "ff4241e5",
   "metadata": {},
   "outputs": [],
   "source": [
    "# Code for solving equations (4) and (7)"
   ]
  },
  {
   "cell_type": "code",
   "execution_count": 4088,
   "id": "493a8097",
   "metadata": {},
   "outputs": [],
   "source": [
    "%matplotlib inline\n",
    "\n",
    "import numpy as np\n",
    "import scipy as sp\n",
    "import sympy as smp\n",
    "import scipy.optimize \n",
    "from scipy.optimize import fsolve\n",
    "import matplotlib.pyplot as plt"
   ]
  },
  {
   "cell_type": "code",
   "execution_count": 4089,
   "id": "c0eab2d7",
   "metadata": {},
   "outputs": [],
   "source": [
    "R=np.linspace(2,0,101)                   #n_v/n_v^x\n",
    "\n",
    "a=0.8                                    # a=alpha (Asymmetry parameter given)\n",
    "\n",
    "theta=(np.pi/2)-0.01                      # vacuum mixing angle\n"
   ]
  },
  {
   "cell_type": "code",
   "execution_count": 4090,
   "id": "dc79a05d",
   "metadata": {},
   "outputs": [],
   "source": [
    "def function(z,R):                         #x,y=z -->variables\n",
    "    x=z[0]                                 #x=cos(v1),              \n",
    "    y=z[1]                                 #y=cos(v2)\n",
    "    \n",
    "    r=((1-a)**2)/(8*(1+a))                 # we can find out r for given alpha\n",
    "    \n",
    "    ratio=r/R                              # r= n^0_v/n^x_v  and R=n_v/n^x_v\n",
    "\n",
    "    factor_1=np.sqrt(1-x**2)\n",
    "    \n",
    "    factor_2=np.sqrt(1-y**2)\n",
    "    \n",
    "    f1=x+(a*y)-((1-a)*np.cos(2*theta))     #eqn (4) defined above \n",
    "   \n",
    "    f2=(x*factor_2)+(factor_1*y)+((4*ratio*factor_1*factor_2)/(factor_1-a*factor_2))  #eqn (7) defined above \n",
    "    \n",
    "   \n",
    "    return (f1,f2)"
   ]
  },
  {
   "cell_type": "code",
   "execution_count": 4091,
   "id": "0f04d22d",
   "metadata": {},
   "outputs": [],
   "source": [
    "# For scipy fsolve mudule we need initial guess values to solve the function\n",
    "# In our case we have to provide initial values for cos(v1) and cos(v2) to the function:"
   ]
  },
  {
   "cell_type": "markdown",
   "id": "d510b93a",
   "metadata": {},
   "source": [
    "We have equation (2) as,\n",
    "\n",
    "$(1-\\alpha)\\cos2\\theta_v=\\cos\\upsilon_1+\\alpha\\cos\\upsilon_2$  \n",
    "\n",
    "For given $\\alpha=0.8$ and $\\theta \\approx \\pi/2$ , equation (2) becomes $\\approx 0 $ for the choice of $\\cos\\upsilon_1=0$ and $\\cos\\upsilon_2=0$  ---> guess values =$(\\cos\\upsilon_1,\\cos\\upsilon_2)$=(0,0)\n",
    "\n"
   ]
  },
  {
   "cell_type": "code",
   "execution_count": 4092,
   "id": "4957bef3",
   "metadata": {},
   "outputs": [],
   "source": [
    "#R is the values in X axis in fig 3 for which we want figure out z \n",
    "#z=fsolve(function,(0,0),args=(R)) #z will give cos(v1)  and cos(v2)  #x,y=z --> x=cos(v1), y=cos(v2)\n",
    "# We have to pass R as an array to find out  all the solutions for cos(v1) and cos(v2)"
   ]
  },
  {
   "cell_type": "code",
   "execution_count": 4093,
   "id": "6066ce53",
   "metadata": {},
   "outputs": [
    {
     "name": "stderr",
     "output_type": "stream",
     "text": [
      "/var/folders/px/h6xhv_615bdcvbzrl_q0jfsr0000gn/T/ipykernel_10196/344996562.py:7: RuntimeWarning: divide by zero encountered in double_scalars\n",
      "  ratio=r/R                              # r= n^0_v/n^x_v  and R=n_v/n^x_v\n",
      "/opt/anaconda3/lib/python3.9/site-packages/scipy/optimize/minpack.py:175: RuntimeWarning: The iteration is not making good progress, as measured by the \n",
      "  improvement from the last ten iterations.\n",
      "  warnings.warn(msg, RuntimeWarning)\n"
     ]
    }
   ],
   "source": [
    "#Panel 3(a) in paper\n",
    "\n",
    "\n",
    "x=[]           #x=cos_v1\n",
    "y=[]           #y=cos_v2\n",
    "\n",
    "initial_values_1=np.cos(2*theta),-np.cos(2*theta)\n",
    "\n",
    "z=fsolve(function,(initial_values_1),args=(R[0]),xtol=1.49012e-08)\n",
    "\n",
    "for i in range(R.size):\n",
    "    \n",
    "    z_1=fsolve(function,(z),args=(R[i]),xtol=1.49012e-08)\n",
    "    z=z_1\n",
    "    \n",
    "    #print(z)             #z contains solution for x and y\n",
    " \n",
    "    \n",
    "    x.append(z[0])       #listing solution for cos_v1 in x\n",
    "             \n",
    "    y.append(z[1])       #listing solution for cos_v2 in y"
   ]
  },
  {
   "cell_type": "code",
   "execution_count": 4094,
   "id": "390766c6",
   "metadata": {},
   "outputs": [],
   "source": [
    "#plt.plot(R,y,\"r--\",lw=2, label=\"$\\cosv_2$\")\n",
    "#plt.plot(R,x,\"g-\",lw=2, label=\"$\\cosv_1$\")\n",
    "#plt.ylabel(\"$\\cosv_{1,2}$\")\n",
    "#plt.xlabel(\"R=$\\dfrac{\\eta_v}{\\eta_v^x}$\")\n",
    "#plt.legend(loc=\"upper right\",edgecolor='black')\n",
    "#plt.xlim(1.0,0.2)"
   ]
  },
  {
   "cell_type": "code",
   "execution_count": 4095,
   "id": "e62a8df3",
   "metadata": {
    "scrolled": false
   },
   "outputs": [],
   "source": [
    "#We will do the same analysis taking theta=0.6 and alpha=0.8\n",
    "#We will pass the new value of theta to the function \n",
    "\n",
    "#Panel 3(c) in paper\n",
    "\n",
    "def function_1(z,R):                       #x,y=z -->variables\n",
    "    x=z[0]                                 #x=cos(v1),              \n",
    "    y=z[1]                                 #y=cos(v2)\n",
    "\n",
    "    r=((1-a)**2)/(8*(1+a))\n",
    "    \n",
    "    ratio=r/R                              # r= n^0_v/n^x_v  and R=n_v/n^x_v\n",
    "\n",
    "    factor_1=np.sqrt(1-x**2)\n",
    "    \n",
    "    factor_2=np.sqrt(1-y**2)\n",
    "    \n",
    "    f1=x+(a*y)-((1-a)*np.cos(2*theta_1))     #eqn (4) defined above \n",
    "   \n",
    "    f2=(x*factor_2)+(factor_1*y)+((4*ratio*factor_1*factor_2)/(factor_1-a*factor_2))  #eqn (7) defined above \n",
    "    \n",
    "   \n",
    "    return (f1,f2)\n"
   ]
  },
  {
   "cell_type": "code",
   "execution_count": 4096,
   "id": "7d202149",
   "metadata": {},
   "outputs": [
    {
     "name": "stderr",
     "output_type": "stream",
     "text": [
      "/var/folders/px/h6xhv_615bdcvbzrl_q0jfsr0000gn/T/ipykernel_10196/1268907694.py:12: RuntimeWarning: divide by zero encountered in double_scalars\n",
      "  ratio=r/R                              # r= n^0_v/n^x_v  and R=n_v/n^x_v\n"
     ]
    }
   ],
   "source": [
    "x_1=[]           #x_1=cos_v1     \n",
    "y_1=[]           #y_1=cos_v2\n",
    "\n",
    "theta_1=0.6\n",
    "\n",
    "initial_values_2=np.cos(2*theta_1),-np.cos(2*theta_1)\n",
    "\n",
    "z_2=fsolve(function_1,(initial_values_2),args=(R[0]),xtol=1.49012e-08)\n",
    "\n",
    "for i in range(R.size):\n",
    "    \n",
    "    z_3=fsolve(function_1,(z_2),args=(R[i]),xtol=1.49012e-08)\n",
    "    z_2=z_3\n",
    "    \n",
    "    #print(z_2)             #z contains solution for x and y, here x taken as x_1 and y taken as y_1\n",
    " \n",
    "    \n",
    "    x_1.append(z_3[0])       #listing solution for cos_v1 in x_1\n",
    "             \n",
    "    y_1.append(z_3[1])       #listing solution for cos_v2 in y_1\n"
   ]
  },
  {
   "cell_type": "code",
   "execution_count": 4097,
   "id": "7b4a960e",
   "metadata": {},
   "outputs": [],
   "source": [
    "#plt.plot(R,y_1,\"r--\",lw=2, label=\"$\\cosv_2$\")\n",
    "#plt.plot(R,x_1,\"g-\",lw=2, label=\"$\\cosv_1$\")\n",
    "#plt.ylabel(\"$\\cosv_{1,2}$\")\n",
    "#plt.xlabel(\"R=$\\dfrac{\\eta_v}{\\eta_v^x}$\")\n",
    "#plt.legend(loc=\"upper right\",edgecolor='black')\n",
    "#plt.xlim(2.0,0.0)\n",
    "#plt.ylim(-1,1)"
   ]
  },
  {
   "cell_type": "code",
   "execution_count": 4098,
   "id": "d8e37a2b",
   "metadata": {},
   "outputs": [
    {
     "name": "stderr",
     "output_type": "stream",
     "text": [
      "/var/folders/px/h6xhv_615bdcvbzrl_q0jfsr0000gn/T/ipykernel_10196/344996562.py:11: RuntimeWarning: invalid value encountered in sqrt\n",
      "  factor_2=np.sqrt(1-y**2)\n",
      "/var/folders/px/h6xhv_615bdcvbzrl_q0jfsr0000gn/T/ipykernel_10196/344996562.py:7: RuntimeWarning: divide by zero encountered in double_scalars\n",
      "  ratio=r/R                              # r= n^0_v/n^x_v  and R=n_v/n^x_v\n"
     ]
    }
   ],
   "source": [
    "#Panel 3(b) in paper\n",
    "\n",
    "\n",
    "#We will do the same analysis taking asymmtry parameter alpha=0.2 and theta=(pi/2)-0.01\n",
    "\n",
    "a=0.2  #Asymmetry parameter\n",
    "\n",
    "#r=0.06666      #values of r calculated for given alpha=0.2\n",
    "\n",
    "x_2=[]           #x_2=cos_v1\n",
    "y_2=[]           #y_2=cos_v2\n",
    "\n",
    "z_4=fsolve(function,(initial_values_1),args=(R[0]),xtol=1.49012e-08)\n",
    "\n",
    "for i in range(R.size):\n",
    "    \n",
    "    z_5=fsolve(function,(z_4),args=(R[i]), xtol=1.49012e-08)\n",
    "    z_4=z_5\n",
    "    \n",
    "    #print(z_4)             #z contains solution for x and y, here x taken as x_2 and y taken as y_2 \n",
    " \n",
    " \n",
    "    \n",
    "    x_2.append(z_5[0])       #listing solution for cos_v1 in x_2\n",
    "             \n",
    "    y_2.append(z_5[1])       #listing solution for cos_v2 in y_2\n",
    "    \n",
    " "
   ]
  },
  {
   "cell_type": "code",
   "execution_count": 4099,
   "id": "6d5a9d5e",
   "metadata": {},
   "outputs": [],
   "source": [
    "#plt.plot(R,y_2,\"r--\",lw=2, label=\"$\\cosv_2$\")\n",
    "#plt.plot(R,x_2,\"g-\",lw=2, label=\"$\\cosv_1$\")\n",
    "#plt.ylabel(\"$\\cosv_{1,2}$\")\n",
    "#plt.xlabel(\"R=$\\dfrac{\\eta_v}{\\eta_v^x}$\")\n",
    "#plt.legend(loc=\"upper right\",edgecolor='black')\n",
    "#plt.legend(loc=\"upper right\",fontsize=10,ncol=2)\n",
    "#plt.xlim(2.0,0.0)"
   ]
  },
  {
   "cell_type": "code",
   "execution_count": 4100,
   "id": "163c7478",
   "metadata": {},
   "outputs": [
    {
     "data": {
      "image/png": "[encoded data removed]",
      "text/plain": [
       "<Figure size 864x720 with 4 Axes>"
      ]
     },
     "metadata": {
      "needs_background": "light"
     },
     "output_type": "display_data"
    }
   ],
   "source": [
    "#2D Plots\n",
    "\n",
    "fig,axes=plt.subplots(2,2,figsize=(12,10))\n",
    "\n",
    "ax=axes[0][0]\n",
    "ax.plot(R,y,\"r--\",lw=2, label=\"$\\cosv_2$\")\n",
    "ax.plot(R,x,\"g-\",lw=2, label=\"$\\cosv_1$\")\n",
    "ax.set_ylabel(\"$\\cosv_{1,2}$\")\n",
    "ax.set_xlabel(\"R=$\\dfrac{\\eta_v}{\\eta_v^x}$\")\n",
    "ax.legend(loc=\"upper right\",edgecolor='black')\n",
    "ax.set_xlim(2.0,0.0)\n",
    "ax.set_ylim(-1,1)\n",
    "ax.set_title(\"Fig a\")\n",
    "ax.grid()\n",
    "ax.minorticks_on()\n",
    "fig.tight_layout()\n",
    "\n",
    "\n",
    "ax=axes[0][1]\n",
    "ax.plot(R,y_2,\"r--\",lw=2, label=\"$\\cosv_2$\")\n",
    "ax.plot(R,x_2,\"g-\",lw=2, label=\"$\\cosv_1$\")\n",
    "ax.set_ylabel(\"$\\cosv_{1,2}$\")\n",
    "ax.set_xlabel(\"R=$\\dfrac{\\eta_v}{\\eta_v^x}$\")\n",
    "ax.legend(loc=\"upper right\",edgecolor='black')\n",
    "ax.set_xlim(2.0,0.0)\n",
    "ax.set_ylim(-1,1)\n",
    "ax.set_title(\"Fig b\")\n",
    "ax.grid()\n",
    "ax.minorticks_on()\n",
    "fig.tight_layout()\n",
    "\n",
    "\n",
    "\n",
    "ax=axes[1][0]\n",
    "ax.plot(R,y_1,\"r--\",lw=2, label=\"$\\cosv_2$\")\n",
    "ax.plot(R,x_1,\"g-\",lw=2, label=\"$\\cosv_1$\")\n",
    "ax.set_ylabel(\"$\\cosv_{1,2}$\")\n",
    "ax.set_xlabel(\"R=$\\dfrac{\\eta_v}{\\eta_v^x}$\")\n",
    "ax.legend(loc=\"upper right\",edgecolor='black')\n",
    "ax.set_xlim(1.1,0.0)\n",
    "ax.set_ylim(-1,1)\n",
    "ax.set_title(\"Fig c\")\n",
    "ax.grid()\n",
    "ax.minorticks_on()\n",
    "fig.tight_layout()\n",
    "\n",
    "\n",
    "ax=axes[1][1]\n",
    "ax.plot(R,y_2,\"r--\",lw=2, label=\"$\\cosv_2$\")\n",
    "ax.plot(R,x_2,\"g-\",lw=2, label=\"$\\cosv_1$\")\n",
    "ax.set_ylabel(\"$\\cosv_{1,2}$\")\n",
    "ax.set_xlabel(\"R=$\\dfrac{\\eta_v}{\\eta_v^x}$\")\n",
    "ax.legend(loc=\"upper right\",edgecolor='black')\n",
    "ax.set_xlim(2.0,0.0)\n",
    "ax.set_ylim(-1,1)\n",
    "ax.set_title(\"Fig d\")\n",
    "ax.grid()\n",
    "ax.minorticks_on()\n",
    "fig.tight_layout()\n",
    "\n"
   ]
  },
  {
   "cell_type": "markdown",
   "id": "637896c4",
   "metadata": {},
   "source": [
    "Comments: Above plots are the Analytical solution "
   ]
  },
  {
   "cell_type": "code",
   "execution_count": 4101,
   "id": "57db3d31",
   "metadata": {},
   "outputs": [
    {
     "data": {
      "image/png": "[encoded data removed]",
      "text/plain": [
       "<Figure size 864x720 with 4 Axes>"
      ]
     },
     "metadata": {
      "needs_background": "light"
     },
     "output_type": "display_data"
    }
   ],
   "source": [
    "#Plotting Numerical solution of NFIS'S and analytical solution of Flavor pendulum together:\n",
    "#2D Plot visuliasation\n",
    "\n",
    "\n",
    "\n",
    "fig,axes=plt.subplots(2,2,figsize=(12,10))\n",
    "\n",
    "ax=axes[0][0]\n",
    "ax.plot(R,y,\"r--\",lw=2.5, label=\"$\\cosv_2$\")\n",
    "ax.plot(R,x,\"g-\",lw=2.5, label=\"$\\cosv_1$\")\n",
    "ax.plot(R_1,c_1a,\"g-\",lw=1)\n",
    "ax.plot(R_1,c_2a,\"r--\",lw=1)\n",
    "ax.axvline(x = n_c_a, ymin=-1.0, ymax=1.0, color=\"m\", linestyle=\":\",lw=3.0)\n",
    "ax.set_ylabel(\"$\\cosv_{1,2}$\")\n",
    "ax.set_xlabel(\"R=$\\dfrac{\\eta_v}{\\eta_v^x}$\")\n",
    "ax.legend(loc=\"upper right\",edgecolor='black')\n",
    "ax.set_xlim(1.3,0.0)\n",
    "ax.set_ylim(-1,1)\n",
    "ax.set_title(\"Fig a\")\n",
    "ax.grid()\n",
    "ax.minorticks_on()\n",
    "fig.tight_layout()\n",
    "\n",
    "\n",
    "ax=axes[0][1]\n",
    "ax.plot(R,y_2,\"r--\",lw=2.5, label=\"$\\cosv_2$\")\n",
    "ax.plot(R,x_2,\"g-\",lw=2.5, label=\"$\\cosv_1$\")\n",
    "ax.plot(R_1,c_1b,\"g-\",lw=1)\n",
    "ax.plot(R_1,c_2b,\"r--\",lw=1)\n",
    "ax.axvline(x = n_c_b, ymin=-1.0, ymax=1.0, color=\"m\", linestyle=\":\",lw=3.0)\n",
    "ax.set_ylabel(\"$\\cosv_{1,2}$\")\n",
    "ax.set_xlabel(\"R=$\\dfrac{\\eta_v}{\\eta_v^x}$\")\n",
    "ax.legend(loc=\"upper right\",edgecolor='black')\n",
    "ax.set_xlim(1.3,0.0)\n",
    "ax.set_ylim(-1,1)\n",
    "ax.set_title(\"Fig b\")\n",
    "ax.grid()\n",
    "ax.minorticks_on()\n",
    "fig.tight_layout()\n",
    "\n",
    "\n",
    "\n",
    "ax=axes[1][0]\n",
    "ax.plot(R,y_1,\"r--\",lw=2.5, label=\"$\\cosv_2$\")\n",
    "ax.plot(R,x_1,\"g-\",lw=2.5, label=\"$\\cosv_1$\")\n",
    "ax.plot(R_1,c_1c,\"g-\",lw=1)\n",
    "ax.plot(R_1,c_2c,\"r--\",lw=1)\n",
    "ax.set_ylabel(\"$\\cosv_{1,2}$\")\n",
    "ax.set_xlabel(\"R=$\\dfrac{\\eta_v}{\\eta_v^x}$\")\n",
    "ax.legend(edgecolor='black')\n",
    "ax.set_xlim(1.3,0.0)\n",
    "ax.set_ylim(-1,1)\n",
    "ax.set_title(\"Fig c\")\n",
    "ax.grid()\n",
    "ax.minorticks_on()\n",
    "fig.tight_layout()\n",
    "\n",
    "\n",
    "ax=axes[1][1]\n",
    "ax.plot(R,y_2,\"r--\",lw=2.5, label=\"$\\cosv_2$\")\n",
    "ax.plot(R,x_2,\"g-\",lw=2.5, label=\"$\\cosv_1$\")\n",
    "ax.plot(R_2,c_1d,\"g-\",lw=1)\n",
    "ax.plot(R_2,c_2d,\"r--\",lw=1)\n",
    "ax.axvline(x = n_c_b, ymin=-1.0, ymax=1.0, color=\"m\", linestyle=\":\",lw=3.0)\n",
    "ax.set_ylabel(\"$\\cosv_{1,2}$\")\n",
    "ax.set_xlabel(\"R=$\\dfrac{\\eta_v}{\\eta_v^x}$\")\n",
    "ax.legend(loc=\"upper right\",edgecolor='black')\n",
    "ax.set_xlim(1.3,0.0)\n",
    "ax.set_ylim(-1,1)\n",
    "ax.set_title(\"Fig d\")\n",
    "ax.grid()\n",
    "ax.minorticks_on()\n",
    "fig.tight_layout()\n",
    "\n",
    "#matplotlib.pyplot.vlines(x, ymin, ymax, color, linestyle, lw)\n"
   ]
  },
  {
   "cell_type": "markdown",
   "id": "bda1e725",
   "metadata": {},
   "source": [
    "Comments: Fig (3) in PRD 75, 125005 (2007)\n",
    "\n",
    "Thick lines represent analytical solution of $\\cos\\upsilon_1$ and $\\cos\\upsilon_2$, where $\\upsilon_1$ and $\\upsilon_2$ are the polar angles of the NFIS's $s_1$ and $s_{2}$ with respect to $H_V$, as functions of neutrino number density $n_\\nu$ for simple asymmetric bipolar systems. \n",
    "\n",
    "Fig (a), (b), and (d) have mixing angle $\\tilde\\theta=0.01$ and figure (c) has $\\theta$=0.6.The asymmetry parameter is $\\alpha$=0.8 for fig (a) and (c), and $\\alpha$=0.2 for (b) and (d).\n",
    "\n",
    "The thin curly lines are computed numerically using NFIS's EOM. For fig (a), (b) and (c) $\\gamma$ is 40 and for fig (d) $\\gamma$ is 200. The vertical magenta line in fig (a), (b) and (d) correpond to critical neutrino number density $n_\\nu=n_\\nu^c$"
   ]
  },
  {
   "cell_type": "code",
   "execution_count": 4102,
   "id": "327e10cf",
   "metadata": {},
   "outputs": [],
   "source": [
    "# Flavor Pendulum in Precession mode:"
   ]
  },
  {
   "cell_type": "markdown",
   "id": "b443ad95",
   "metadata": {},
   "source": [
    "Frequency of the Pendulum in precession mode is given by;\n",
    "\n",
    "\n",
    "$\\Omega=\\mu_V[1-\\frac{\\alpha}{2\\sin\\upsilon_1}(\\frac{n_\\nu}{n_\\nu^0})\\sin(\\upsilon_1+\\upsilon_2)]$ ---------->(1)\n",
    "\n",
    "\n",
    "&\n",
    "\n",
    "\n",
    "$\\Omega=\\mu_V[-1-\\frac{1}{2\\sin\\upsilon_2}(\\frac{n_\\nu}{n_\\nu^0})\\sin(\\upsilon_1+\\upsilon_2)]$ ----------->(2)\n",
    "\n",
    "(1) can be written as,\n",
    "\n",
    "=> $\\frac{\\Omega}{\\mu_V}=[1-\\frac{\\alpha}{2\\sin\\upsilon_1}(\\frac{n_\\nu}{n_\\nu^0})\\sin(\\upsilon_1+\\upsilon_2)]$\n",
    "\n",
    "Further,\n",
    "$\\frac{\\Omega}{\\mu_V}=[1-\\frac{\\alpha}{2\\sin\\upsilon_1}(\\frac{n_\\nu}{n_\\nu^0})(\\sin\\upsilon_1\\cos\\upsilon_2+\\cos\\upsilon_1\\sin\\upsilon_2)]$\n",
    "\n",
    "replacing sine by cosines,\n",
    "\n",
    "$\\frac{\\Omega}{\\mu_V}=[1-\\frac{\\alpha}{2(1-\\cos\\upsilon_1^2)^{1/2}}(\\frac{n_\\nu}{n_\\nu^0})((1-\\cos\\upsilon_1^2)^{1/2}\\cos\\upsilon_2+\\cos\\upsilon_1(1-\\cos\\upsilon_2^2)^{1/2})]$\n",
    "\n",
    "$\\frac{\\Omega}{\\mu_V}=[1-\\frac{\\alpha}{2(1-\\cos\\upsilon_1^2)^{1/2}}(\\frac{n_\\nu}{n_\\nu^x}\\frac{n_\\nu^x}{n_\\nu^0})((1-\\cos\\upsilon_1^2)^{1/2}\\cos\\upsilon_2+\\cos\\upsilon_1(1-\\cos\\upsilon_2^2)^{1/2})]$\n",
    "\n",
    "And we have, $\\boxed{ n_\\nu^x=8\\frac{1+\\alpha}{(1-\\alpha)^2}n_\\nu^0}$  ------>>(C)\n",
    "\n",
    "Thus above equation becomes, \n",
    "\n",
    "$\\boxed{\\frac{\\Omega}{\\mu_V}=[1-\\frac{\\alpha}{2(1-\\cos\\upsilon_1^2)^{1/2}}(\\frac{n_\\nu}{n_\\nu^x})\\frac{8(1+\\alpha)}{(1-\\alpha)^2}((1-\\cos\\upsilon_1^2)^{1/2}\\cos\\upsilon_2+\\cos\\upsilon_1(1-\\cos\\upsilon_2^2)^{1/2})]}$ ---------->(3)\n",
    "\n",
    "Similarly (2) can be written as,\n",
    "\n",
    "$\\boxed{\\frac{\\Omega}{\\mu_V}=[-1-\\frac{1}{2(1-\\cos\\upsilon_2^2)^{1/2}}(\\frac{n_\\nu}{n_\\nu^x})\\frac{8(1+\\alpha)}{(1-\\alpha)^2}((1-\\cos\\upsilon_1^2)^{1/2}\\cos\\upsilon_2+\\cos\\upsilon_1(1-\\cos\\upsilon_2^2)^{1/2})]}$ --------->(4)\n",
    "\n",
    "\n",
    "\n",
    "For given $\\alpha$ and $\\theta$ we already computed $\\cos\\upsilon_1$ and $\\cos\\upsilon_2$, so we can find out $\\Omega$ easily. "
   ]
  },
  {
   "cell_type": "code",
   "execution_count": 4103,
   "id": "859f3ca3",
   "metadata": {},
   "outputs": [],
   "source": [
    "# Code to calculate the Precession frequency of the Flavor Pendulum:"
   ]
  },
  {
   "cell_type": "code",
   "execution_count": 4104,
   "id": "adcf97e5",
   "metadata": {},
   "outputs": [],
   "source": [
    "R_3=np.linspace(2,0,101)  #n_v/n_v^x"
   ]
  },
  {
   "cell_type": "code",
   "execution_count": 4105,
   "id": "0da16438",
   "metadata": {},
   "outputs": [],
   "source": [
    "x=np.array(x)  #cos_v1   # x,y: Analytical solution for theta_tilde=0.01 and alpha=0.8 \n",
    "    \n",
    "y=np.array(y)  #cos_v2\n",
    "\n",
    "def Omega_1(alpha_1):   #Here the argument is used just like an dummy index\n",
    "    \n",
    "    #m_1=np.sqrt(1-c_1a**2)  #c_1a=cos_v1  # c_1a,c_2a :Numerical solution for theta_tilde=0.01 and alpha=0.8 gamma=40\n",
    "    \n",
    "    #m_2=np.sqrt(1-c_2a**2)  #c_2a=cos_v2  \n",
    "    \n",
    "    m_1=np.sqrt(1-x**2)     \n",
    "    \n",
    "    m_2=np.sqrt(1-y**2)\n",
    "    \n",
    "    m_3=(R_3*8*(1+alpha_1))/((1-alpha_1)**2)\n",
    "    \n",
    "    m_4= alpha_1/(2*m_1)\n",
    "    \n",
    "    return 1-(m_4*m_3*((m_1*y)+(x*m_2)))  #equation(3) defined above\n",
    "\n",
    "    #return -1-((1/(2*m_2))*m_3*((m_1*y)+(x*m_2)))     #equation(4) defined above\n"
   ]
  },
  {
   "cell_type": "code",
   "execution_count": 4106,
   "id": "f3976e22",
   "metadata": {},
   "outputs": [],
   "source": [
    "alpha_1=0.8\n",
    "\n",
    "Omega_1(alpha_1)  #for theta_tilde=0.01 and alpha=0.8 \n",
    "\n",
    "freq_1=Omega_1(alpha_1) "
   ]
  },
  {
   "cell_type": "code",
   "execution_count": 4107,
   "id": "4b229932",
   "metadata": {},
   "outputs": [],
   "source": [
    "x_2=np.array(x_2)  #cos_v1   # x_2,y_2: Analytical solution for theta_tilde=0.01 and alpha=0.2 \n",
    "    \n",
    "y_2=np.array(y_2)  #cos_v2\n",
    "\n",
    "def Omega_2(alpha_2):  #Here the argument is used just like an dummy index\n",
    "    \n",
    "    #m_1=np.sqrt(1-c_1b**2)   #c_1b=cos_v1 #c_1b,c_2b :Numerical solution for theta_tilde=0.01 and alpha=0.8 gamma=40\n",
    "    \n",
    "    #m_2=np.sqrt(1-c_2b**2)   #c_2b=cos_v2\n",
    "    \n",
    "    m_1=np.sqrt(1-x_2**2)\n",
    "    m_2=np.sqrt(1-y_2**2)\n",
    "    \n",
    "    m_3=(R_3*8*(1+alpha_2))/((1-alpha_2)**2)   \n",
    "    \n",
    "    m_4=alpha_2/(2*m_1)\n",
    "    \n",
    "    return 1-(m_4*m_3*((m_1*y_2)+(x_2*m_2)))  #equation(3) defined above\n",
    "\n",
    "    #return -1-(1/(2*m_2))*m_3*((m_1*y)+(x*m_2))   #equation (4) defined above"
   ]
  },
  {
   "cell_type": "code",
   "execution_count": 4108,
   "id": "886ee428",
   "metadata": {},
   "outputs": [],
   "source": [
    "alpha_2=0.2\n",
    "\n",
    "Omega_2(alpha_2)\n",
    "\n",
    "freq_2=Omega_2(alpha_2)"
   ]
  },
  {
   "cell_type": "code",
   "execution_count": 4109,
   "id": "71f80bc1",
   "metadata": {},
   "outputs": [],
   "source": [
    "x_1=np.array(x_1) #cos_v1   # x_2,y_2: Analytical solution for theta=0.6 and alpha=0.8\n",
    "\n",
    "y_1=np.array(y_1) #cos_v2\n",
    "\n",
    "\n",
    "def Omega_3(alpha_1):  #Here the argument is used just like an dummy index\n",
    "    \n",
    "    #m_1=np.sqrt(1-c_1c**2)   #cos_v1   # c_1c,c_2c : Numerical solution for theta=0.6 and alpha=0.8 gamma=40\n",
    "    \n",
    "    #m_2=np.sqrt(1-c_2c**2)   #cos_v2\n",
    "    \n",
    "    m_1=np.sqrt(1-x_1**2)\n",
    "    m_2=np.sqrt(1-y_1**2)\n",
    "    \n",
    "    m_3=(R_3*8*(1+alpha_1))/((1-alpha_1)**2)\n",
    "    \n",
    "    m_4=alpha_1/(2*m_1)\n",
    "    \n",
    "    return 1-(m_4*m_3*((m_1*y_1)+(x_1*m_2)))          #equation (3) defined above\n",
    "\n",
    "    #return -1-(1/(2*m_2))*m_3*((m_1*y)+(x*m_2))      #equation (4) defined above"
   ]
  },
  {
   "cell_type": "code",
   "execution_count": 4110,
   "id": "49c2729f",
   "metadata": {},
   "outputs": [],
   "source": [
    "Omega_3(alpha_1)\n",
    "\n",
    "freq_3=Omega_3(alpha_1)\n"
   ]
  },
  {
   "cell_type": "markdown",
   "id": "41cbd9c1",
   "metadata": {},
   "source": [
    "Precession frequency of the Flavor Pendulum is maximum at critical density;\n",
    "\n",
    "$\\Omega(n_{\\nu}=n_\\nu^c)=1+\\frac{2\\sqrt\\alpha}{1-\\sqrt\\alpha}$\n"
   ]
  },
  {
   "cell_type": "code",
   "execution_count": 4111,
   "id": "929da6ce",
   "metadata": {},
   "outputs": [],
   "source": [
    "def Omega_c(alpha): # Precession Frequency at critical number density\n",
    "    \n",
    "    return 1+(2*np.sqrt(alpha)/(1-np.sqrt(alpha)))"
   ]
  },
  {
   "cell_type": "code",
   "execution_count": 4112,
   "id": "c4d96ea0",
   "metadata": {},
   "outputs": [
    {
     "data": {
      "text/plain": [
       "17.944271909999156"
      ]
     },
     "execution_count": 4112,
     "metadata": {},
     "output_type": "execute_result"
    }
   ],
   "source": [
    "Omega_c(0.8)  # Precession frequency for alpha=0.8\n"
   ]
  },
  {
   "cell_type": "code",
   "execution_count": 4113,
   "id": "196f737b",
   "metadata": {},
   "outputs": [
    {
     "data": {
      "text/plain": [
       "2.618033988749895"
      ]
     },
     "execution_count": 4113,
     "metadata": {},
     "output_type": "execute_result"
    }
   ],
   "source": [
    "Omega_c(0.2)  #Precession frequency for alpha=0.2"
   ]
  },
  {
   "cell_type": "code",
   "execution_count": 4115,
   "id": "548f99a5",
   "metadata": {},
   "outputs": [
    {
     "data": {
      "text/plain": [
       "Text(0, 0.5, '$\\\\dfrac{\\\\Omega}{\\\\mu_{V}}$')"
      ]
     },
     "execution_count": 4115,
     "metadata": {},
     "output_type": "execute_result"
    },
    {
     "data": {
      "image/png": "[encoded data removed]",
      "text/plain": [
       "<Figure size 432x288 with 1 Axes>"
      ]
     },
     "metadata": {
      "needs_background": "light"
     },
     "output_type": "display_data"
    }
   ],
   "source": [
    "plt.plot(R_3, freq_1,\"r\", lw=2)\n",
    "plt.plot(R_3, freq_2,\"g--\", lw=2)\n",
    "plt.plot(R_3, freq_3,\"k:\", lw=2.5)\n",
    "plt.axvline(x=n_c_a,color=\"m\", linestyle=\":\", lw=2.0)  #critical number density for alpha=0.8 \n",
    "plt.axvline(x=n_c_b,color=\"b\", linestyle=\":\", lw=2.0)  #critical number density for alpha=0.2\n",
    "plt.xlim(2,0)\n",
    "plt.xlabel(\"$\\dfrac{\\eta_v}{\\eta_v^x}$\")\n",
    "plt.ylabel(\"$\\dfrac{\\Omega}{\\mu_{V}}$\")\n",
    "\n",
    "#matplotlib.pyplot.vlines(x, ymin, ymax, color, linestyle, lw)\n"
   ]
  },
  {
   "cell_type": "markdown",
   "id": "4a197efc",
   "metadata": {},
   "source": [
    "Comments: Fig (4) in PRD 75, 125005 (2007)\n",
    "\n",
    "Scaled frequency of the Flavor pendulum in precession mode as function of neutrino number density $n_\\nu$. The vacuum mixing angle $\\tilde \\theta=0.01$ for the solid red line and dashed green line and $\\theta=0.6$ for dotted black line.\n",
    "\n",
    "Asymmetry parameter is $\\alpha=0.8$ for the solid red line and dotted black line . Whereas for the dashed green line $\\alpha=0.2$. \n",
    "\n",
    "The vertical dotted magenta line correspond to $n_\\nu=n_\\nu^c$ for $\\alpha=0.8$ and vertical dotted blue line for $\\alpha=0.2$."
   ]
  },
  {
   "cell_type": "code",
   "execution_count": null,
   "id": "81d5293f",
   "metadata": {},
   "outputs": [],
   "source": []
  }
 ],
 "metadata": {
  "kernelspec": {
   "display_name": "Python 3 (ipykernel)",
   "language": "python",
   "name": "python3"
  },
  "language_info": {
   "codemirror_mode": {
    "name": "ipython",
    "version": 3
   },
   "file_extension": ".py",
   "mimetype": "text/x-python",
   "name": "python",
   "nbconvert_exporter": "python",
   "pygments_lexer": "ipython3",
   "version": "3.9.12"
  }
 },
 "nbformat": 4,
 "nbformat_minor": 5
}
