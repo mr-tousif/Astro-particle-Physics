{
 "cells": [
  {
   "cell_type": "code",
   "execution_count": 114,
   "id": "bde322dc",
   "metadata": {},
   "outputs": [],
   "source": [
    "#This notebook will show MSW effect and level crossing phenomenon in 2 flavor framework and Oscillation amplitude"
   ]
  },
  {
   "cell_type": "markdown",
   "id": "4e36f752",
   "metadata": {},
   "source": [
    "Two-flavor Neutrino Oscillation Analysis:\n",
    "\n",
    "\n",
    "$H_{matter}=H_{vacuum}+V=\\frac{\\Delta{m}^2}{2E}\\begin{bmatrix} 1-\\cos{2\\theta} & \\sin{2\\theta}\\\\\\sin{2\\theta} & 1+\\cos{2\\theta} \\end{bmatrix}+V_{cc}\\begin{bmatrix} 1 &0 & \\\\0 &0 \\end{bmatrix} \n",
    "\\begin{equation}\n",
    "V=\\sqrt{2}G_{F}n_{e}\\end{equation}$\n",
    "\n",
    "$n_e$= Number density of electrons inside the matter\n"
   ]
  },
  {
   "cell_type": "markdown",
   "id": "bf92ac86",
   "metadata": {},
   "source": [
    "Eigenvalues of $H_{matter}: E_{1m}=\\frac{V}{2}+\\frac{\\Delta{m}^2}{4E}(1-\\sqrt((\\sin^2{2\\theta})+(\\cos{2\\theta}-A)^2)$,\n",
    "\n",
    "$E_{2m}=\\frac{V}{2}+\\frac{\\Delta{m}^2}{4E}(1+\\sqrt((\\sin^2{2\\theta})+(\\cos{2\\theta}-A)^2)$,\n",
    "\n",
    "A=$\\frac{2EV}{\\Delta{m}^2}$"
   ]
  },
  {
   "cell_type": "markdown",
   "id": "03c701c5",
   "metadata": {},
   "source": [
    "$V_{cc}=\\pm 7.56 \\times 10^{-14}\\times\\frac{\\rho}{gm/cm^3}\\times Y_{e}$  eV, where $Y_{e}$= No of electrons/nucleon\n",
    "~ 0.5 (usually taken for the caculation on Earth) \n",
    "\n",
    "\n",
    "+$V_{cc}$(neutrino) and -$V_{cc}$(antineutrino)\n",
    "\n",
    "cc: Charged Current Interactions ($\\nu_{e}e\\rightarrow\\nu_{e}e$)\n"
   ]
  },
  {
   "cell_type": "markdown",
   "id": "ee1667e4",
   "metadata": {},
   "source": [
    "Vacuum:\n",
    "\n",
    "Transition Probability:\n",
    "$P_{\\nu_\\alpha\\to\\nu_\\beta}$ = $sin^22\\theta_{v}$ $sin^2(1.27\\frac{\\Delta m^2}{4E}L)$ ;\n",
    "Survival Probability: $P_{\\nu_\\alpha\\rightarrow\\nu_\\alpha}=1-P_{\\nu_\\alpha\\rightarrow\\nu_\\beta}$; \n",
    "\n",
    "Matter:\n",
    "\n",
    "Transition Probability:\n",
    "$P_{\\nu_\\alpha\\to\\nu_\\beta}$ = $sin^22\\theta_{m}$ $sin^2(1.27\\frac{\\Delta m^2_{m}}{4E}L)$ , Unit: L (KM), E (GeV), $\\Delta m^2(eV^2)$ ; Survival Probability: $P_{\\nu_\\alpha\\rightarrow\\nu_\\alpha}=1-P_{\\nu_\\alpha\\rightarrow\\nu_\\beta}$\n",
    "\n",
    "Total probability: $P_{\\nu_\\alpha\\rightarrow\\nu_\\alpha}+P_{\\nu_\\alpha\\rightarrow\\nu_\\beta}$= 1,     $\\nu_{\\alpha}\\rightarrow \\nu_{\\beta} =\\nu_{l}; l\\rightarrow e,\\mu,\\tau $\n",
    "\n",
    "$\\Delta m^2_{m}=\\Delta m^2\\times{\\sqrt((\\sin^2{2\\theta})+(\\cos{2\\theta}-A)^2)}$\n",
    "\n",
    "$\\Delta m^2_{m} = \\Delta m^2_{2m}-\\Delta m^2_{1m}$ = Mass splittings in Matter;\n",
    "\n",
    "$\\Delta m^2 = \\Delta m^2_{2}-\\Delta m^2_{1}$ = Mass splittings in Vacuum\n",
    "\n",
    "$\\Delta m^2_{2m}=\\frac{1}{2}{\\Delta m^2\\times{\\sqrt((\\sin^2{2\\theta})+(\\cos{2\\theta}-A)^2)}}$,\n",
    "$\\Delta m^2_{1m}=-\\frac{1}{2}{\\Delta m^2\\times{\\sqrt((\\sin^2{2\\theta})+(\\cos{2\\theta}-A)^2)}}$"
   ]
  },
  {
   "cell_type": "markdown",
   "id": "89b6f908",
   "metadata": {},
   "source": [
    "$\\sin2\\theta_{m}=\\frac{\\sin2\\theta_{v}}{\\sqrt((\\sin^2{2\\theta})+(\\cos{2\\theta}-A)^2)}$ ;  $\\theta_{m}$= Mixing angle in matter and $\\theta_{v}= \\theta$ = Mixing angle in vacuum\n",
    "\n",
    "\n",
    "$\\cos2\\theta_{m}=\\frac{\\cos2\\theta_{v}-A}{\\sqrt((\\sin^2{2\\theta})+(\\cos{2\\theta}-A)^2)}$\n",
    "\n",
    "\n",
    "$\\tan2\\theta_{m}=\\frac{\\sin2\\theta_{v}}{\\cos2\\theta_{v}-A}$ \n",
    "\n",
    "Resonance Condition:  $A=\\frac{2EV}{\\Delta{m}^2}=\\cos2\\theta_{v}$\n",
    "\n",
    "*All the expressions shown in this analysis has been derived using Neutrino Oscillation in Vacuum and Matter formalism\n"
   ]
  },
  {
   "cell_type": "code",
   "execution_count": 115,
   "id": "26cbb112",
   "metadata": {},
   "outputs": [],
   "source": [
    "%matplotlib inline\n",
    "import numpy as np\n",
    "import scipy as sp\n",
    "import math\n",
    "from sympy import*\n",
    "import matplotlib.pyplot as plt\n",
    "from scipy.integrate import solve_ivp \n",
    "from scipy.integrate import odeint\n"
   ]
  },
  {
   "cell_type": "code",
   "execution_count": 116,
   "id": "3bfe9bf3",
   "metadata": {},
   "outputs": [],
   "source": [
    "Y_e=0.5   #Y_e~ 0.5, #rho= gm/cm^3\n",
    "delta_m_sqr=8.1*1e-5                    #Unit: eV^2\n",
    "E=1e9                                   #Neutrinos energy of 1 GeV considered\n",
    "\n",
    "V=7.56*pow(10,-14)*(rho)*Y_e           #V:Matter Potential, Unit(eV)  \n",
    "\n",
    "A=(4*E*V)/(delta_m_sqr) #my calculation  \n",
    "\n",
    "#A=2*E*V/delta_m_sqr.  #Jochim_Kopp Version: Source diploma thesis\n",
    "\n",
    "B=(delta_m_sqr)/(4*E)   #E= Neutrino Energy  #delta_m_sqr= Mass splittings square\n",
    "\n",
    "                    \n",
    "#s=np.sin(2*theta)\n",
    "#c=np.cos(2*theta)\n",
    "\n",
    "\n",
    "\n",
    "#for two flavor case, the Hamiltonian is 2×2 matrix , Two eigenvalues we have\n",
    "\n",
    "def E_1m(rho):  \n",
    " \n",
    "    # E_1m: Energy eigenvalues of the Hamiltonian in Matter \n",
    "    #E_1m=(V/2)+(B*(1-np.sqrt(s**2+(c-A)**2)))  \"Jochim Kopp version\"        \n",
    "                                            \n",
    "    E_1m=B*(A + 2)/2 - B*np.sqrt(A**2 - 8*A*np.cos(theta)**2 + 4*A + 4)/2 #My calculation\n",
    "    \n",
    "    # E_1mn: Energy eigenvalues of the Hamiltonian in Matter including NSI term\n",
    "    \n",
    "    #E_1mn=B*(A + D + 2)/2 - B*np.sqrt(-4*(A + 2*np.sin(theta)**2)*(D + np.cos(2*theta) + 1) + 4*(C + np.sin(2*theta))**2 + (A + D + 2)**2)/2\n",
    "    \n",
    "    return E_1m\n",
    "\n",
    "def E_2m(rho):\n",
    "    \n",
    "    #Energy eigenvalues of the Hamiltonian in Matter\n",
    "    \n",
    "    #E_2m=(V/2)+(B*(1+np.sqrt(s**2+(c-A)**2)))  #Jochim Kopp version\n",
    "    \n",
    "    E_2m= B*(A + 2)/2 + B*np.sqrt(A**2 - 8*A*np.cos(theta)**2 + 4*A + 4)/2 #My calculation\n",
    "    \n",
    "    return E_2m                              \n",
    "\n",
    "def Amplitude(theta):\n",
    "    \n",
    "    s=np.sin(2*theta)\n",
    "    c=np.cos(2*theta)\n",
    "    return (s**2)/((s**2)+(c-A)**2)   # Oscillation Amplitude in Matter "
   ]
  },
  {
   "cell_type": "code",
   "execution_count": 117,
   "id": "fc07fa61",
   "metadata": {},
   "outputs": [],
   "source": [
    "rho=np.linspace(0.1,20,100)  #Matter density in gm/cm^3  \n",
    "\n",
    "                              #Adiabatic Approximation( slowly varying density in medium)\n",
    "                       "
   ]
  },
  {
   "cell_type": "code",
   "execution_count": 118,
   "id": "38862ea4",
   "metadata": {},
   "outputs": [],
   "source": [
    "theta=np.arcsin(np.sqrt(0.79))/2"
   ]
  },
  {
   "cell_type": "code",
   "execution_count": 119,
   "id": "7f1174b1",
   "metadata": {},
   "outputs": [
    {
     "data": {
      "text/plain": [
       "0.547381254366787"
      ]
     },
     "execution_count": 119,
     "metadata": {},
     "output_type": "execute_result"
    }
   ],
   "source": [
    "theta"
   ]
  },
  {
   "cell_type": "code",
   "execution_count": 120,
   "id": "36d17503",
   "metadata": {},
   "outputs": [
    {
     "data": {
      "text/plain": [
       "array([2.68345163e-15, 7.58583610e-15, 1.17383809e-14, 1.50979157e-14,\n",
       "       1.77176704e-14, 1.97195131e-14, 2.12436579e-14, 2.24136831e-14,\n",
       "       2.33250585e-14, 2.40471149e-14, 2.46290443e-14, 2.51056658e-14,\n",
       "       2.55018292e-14, 2.58355071e-14, 2.61198993e-14, 2.63648544e-14,\n",
       "       2.65778344e-14, 2.67645762e-14, 2.69295508e-14, 2.70762871e-14,\n",
       "       2.72076032e-14, 2.73257736e-14, 2.74326525e-14, 2.75297653e-14,\n",
       "       2.76183778e-14, 2.76995479e-14, 2.77741671e-14, 2.78429908e-14,\n",
       "       2.79066637e-14, 2.79657389e-14, 2.80206937e-14, 2.80719420e-14,\n",
       "       2.81198442e-14, 2.81647159e-14, 2.82068343e-14, 2.82464441e-14,\n",
       "       2.82837618e-14, 2.83189799e-14, 2.83522701e-14, 2.83837857e-14,\n",
       "       2.84136645e-14, 2.84420304e-14, 2.84689949e-14, 2.84946592e-14,\n",
       "       2.85191146e-14, 2.85424446e-14, 2.85647247e-14, 2.85860240e-14,\n",
       "       2.86064059e-14, 2.86259281e-14, 2.86446438e-14, 2.86626019e-14,\n",
       "       2.86798473e-14, 2.86964216e-14, 2.87123630e-14, 2.87277072e-14,\n",
       "       2.87424869e-14, 2.87567328e-14, 2.87704731e-14, 2.87837343e-14,\n",
       "       2.87965410e-14, 2.88089160e-14, 2.88208809e-14, 2.88324556e-14,\n",
       "       2.88436589e-14, 2.88545084e-14, 2.88650205e-14, 2.88752108e-14,\n",
       "       2.88850937e-14, 2.88946830e-14, 2.89039915e-14, 2.89130313e-14,\n",
       "       2.89218140e-14, 2.89303503e-14, 2.89386504e-14, 2.89467241e-14,\n",
       "       2.89545803e-14, 2.89622279e-14, 2.89696749e-14, 2.89769292e-14,\n",
       "       2.89839981e-14, 2.89908887e-14, 2.89976076e-14, 2.90041611e-14,\n",
       "       2.90105553e-14, 2.90167959e-14, 2.90228884e-14, 2.90288380e-14,\n",
       "       2.90346496e-14, 2.90403279e-14, 2.90458776e-14, 2.90513029e-14,\n",
       "       2.90566080e-14, 2.90617968e-14, 2.90668731e-14, 2.90718405e-14,\n",
       "       2.90767025e-14, 2.90814623e-14, 2.90861233e-14, 2.90906884e-14])"
      ]
     },
     "execution_count": 120,
     "metadata": {},
     "output_type": "execute_result"
    }
   ],
   "source": [
    "E_1m(rho)"
   ]
  },
  {
   "cell_type": "code",
   "execution_count": 121,
   "id": "d4866885",
   "metadata": {},
   "outputs": [],
   "source": [
    "y11=E_1m(rho)"
   ]
  },
  {
   "cell_type": "code",
   "execution_count": 122,
   "id": "e15e7ce2",
   "metadata": {},
   "outputs": [
    {
     "data": {
      "text/plain": [
       "array([4.15965484e-14, 4.42923457e-14, 4.77379827e-14, 5.19766298e-14,\n",
       "       5.69550569e-14, 6.25513960e-14, 6.86254330e-14, 7.50535896e-14,\n",
       "       8.17403960e-14, 8.86165215e-14, 9.56327739e-14, 1.02754334e-13,\n",
       "       1.09956353e-13, 1.17220857e-13, 1.24534646e-13, 1.31887873e-13,\n",
       "       1.39273075e-13, 1.46684515e-13, 1.54117722e-13, 1.61569167e-13,\n",
       "       1.69036033e-13, 1.76516045e-13, 1.84007348e-13, 1.91508416e-13,\n",
       "       1.99017986e-13, 2.06534998e-13, 2.14058560e-13, 2.21587918e-13,\n",
       "       2.29122427e-13, 2.36661534e-13, 2.44204761e-13, 2.51751694e-13,\n",
       "       2.59301974e-13, 2.66855284e-13, 2.74411348e-13, 2.81969920e-13,\n",
       "       2.89530784e-13, 2.97093747e-13, 3.04658639e-13, 3.12225305e-13,\n",
       "       3.19793608e-13, 3.27363424e-13, 3.34934641e-13, 3.42507159e-13,\n",
       "       3.50080885e-13, 3.57655737e-13, 3.65231639e-13, 3.72808521e-13,\n",
       "       3.80386321e-13, 3.87964981e-13, 3.95544447e-13, 4.03124671e-13,\n",
       "       4.10705607e-13, 4.18287215e-13, 4.25869455e-13, 4.33452293e-13,\n",
       "       4.41035695e-13, 4.48619631e-13, 4.56204072e-13, 4.63788993e-13,\n",
       "       4.71374368e-13, 4.78960175e-13, 4.86546392e-13, 4.94132999e-13,\n",
       "       5.01719977e-13, 5.09307310e-13, 5.16894979e-13, 5.24482971e-13,\n",
       "       5.32071270e-13, 5.39659862e-13, 5.47248736e-13, 5.54837878e-13,\n",
       "       5.62427277e-13, 5.70016922e-13, 5.77606804e-13, 5.85196912e-13,\n",
       "       5.92787238e-13, 6.00377772e-13, 6.07968507e-13, 6.15559434e-13,\n",
       "       6.23150547e-13, 6.30741839e-13, 6.38333302e-13, 6.45924930e-13,\n",
       "       6.53516717e-13, 6.61108659e-13, 6.68700748e-13, 6.76292980e-13,\n",
       "       6.83885350e-13, 6.91477854e-13, 6.99070486e-13, 7.06663243e-13,\n",
       "       7.14256119e-13, 7.21849112e-13, 7.29442218e-13, 7.37035432e-13,\n",
       "       7.44628752e-13, 7.52222174e-13, 7.59815695e-13, 7.67409312e-13])"
      ]
     },
     "execution_count": 122,
     "metadata": {},
     "output_type": "execute_result"
    }
   ],
   "source": [
    "E_2m(rho)"
   ]
  },
  {
   "cell_type": "code",
   "execution_count": 123,
   "id": "80d07d25",
   "metadata": {},
   "outputs": [],
   "source": [
    "y22=E_2m(rho)"
   ]
  },
  {
   "cell_type": "code",
   "execution_count": 124,
   "id": "bacdee50",
   "metadata": {},
   "outputs": [],
   "source": [
    "theta=np.arcsin(np.sqrt(0.01))/2"
   ]
  },
  {
   "cell_type": "code",
   "execution_count": 125,
   "id": "c35a3fe6",
   "metadata": {},
   "outputs": [
    {
     "data": {
      "text/plain": [
       "0.0500837105807799"
      ]
     },
     "execution_count": 125,
     "metadata": {},
     "output_type": "execute_result"
    }
   ],
   "source": [
    "theta"
   ]
  },
  {
   "cell_type": "code",
   "execution_count": 126,
   "id": "e64c69b7",
   "metadata": {},
   "outputs": [],
   "source": [
    "y1=E_1m(rho) #for theta 0.0500837105807799"
   ]
  },
  {
   "cell_type": "code",
   "execution_count": 127,
   "id": "e6b9568a",
   "metadata": {},
   "outputs": [],
   "source": [
    "y2=E_2m(rho) #0.0500837105807799"
   ]
  },
  {
   "cell_type": "markdown",
   "id": "06b624df",
   "metadata": {},
   "source": [
    "MSW effect and level crossing phenomenon:"
   ]
  },
  {
   "cell_type": "code",
   "execution_count": 128,
   "id": "9c1af84d",
   "metadata": {},
   "outputs": [
    {
     "data": {
      "text/plain": [
       "<matplotlib.legend.Legend at 0x7fd7c39e4250>"
      ]
     },
     "execution_count": 128,
     "metadata": {},
     "output_type": "execute_result"
    },
    {
     "data": {
      "image/png": "[encoded data removed]",
      "text/plain": [
       "<Figure size 432x288 with 1 Axes>"
      ]
     },
     "metadata": {
      "needs_background": "light"
     },
     "output_type": "display_data"
    }
   ],
   "source": [
    "plt.loglog(rho,y11,\"r--\",label=\"$\\sin^2{2\\Theta}$=0.79\")\n",
    "plt.loglog(rho,y22,\"r--\")\n",
    "plt.loglog(rho,y1,\"r-\",label=\"$\\sin^2{2\\Theta}$=0.01\")\n",
    "plt.loglog(rho,y2,\"r-\")\n",
    "plt.xlabel(\"rho[gm/cm^3]\")\n",
    "plt.ylabel(\"Energy Eigenvalues\")\n",
    "plt.title(\" MSW Effect and Level crossing \",loc=\"center\")\n",
    "plt.legend()"
   ]
  },
  {
   "cell_type": "markdown",
   "id": "85847bdf",
   "metadata": {},
   "source": [
    "Oscillation Amplitude revisit:"
   ]
  },
  {
   "cell_type": "code",
   "execution_count": 129,
   "id": "2d983b73",
   "metadata": {},
   "outputs": [],
   "source": [
    "theta=np.arcsin(np.sqrt(0.01))/2"
   ]
  },
  {
   "cell_type": "code",
   "execution_count": 130,
   "id": "c1003d8b",
   "metadata": {},
   "outputs": [],
   "source": [
    "Z2=Amplitude(theta)"
   ]
  },
  {
   "cell_type": "code",
   "execution_count": 131,
   "id": "e515cdf7",
   "metadata": {},
   "outputs": [],
   "source": [
    "theta=np.arcsin(np.sqrt(0.79))/2"
   ]
  },
  {
   "cell_type": "code",
   "execution_count": 132,
   "id": "e9fc742e",
   "metadata": {
    "scrolled": true
   },
   "outputs": [],
   "source": [
    "Z1=Amplitude(theta)"
   ]
  },
  {
   "cell_type": "code",
   "execution_count": 133,
   "id": "6145b450",
   "metadata": {},
   "outputs": [],
   "source": [
    "theta=np.arcsin(np.sqrt(0.01))/2  #sin^2theta=Oscillation Amplitude in vacuum"
   ]
  },
  {
   "cell_type": "code",
   "execution_count": 134,
   "id": "edfd6c2b",
   "metadata": {
    "scrolled": true
   },
   "outputs": [
    {
     "data": {
      "image/png": "[encoded data removed]",
      "text/plain": [
       "<Figure size 432x288 with 1 Axes>"
      ]
     },
     "metadata": {
      "needs_background": "light"
     },
     "output_type": "display_data"
    }
   ],
   "source": [
    "plt.semilogx(rho, Z1, \"r--\",label=\"$\\sin^2{2\\Theta}$=0.79\")\n",
    "plt.semilogx(rho,Z2, \"r-\", label=\"$\\sin^2{2\\Theta}$=0.01\")\n",
    "plt.xlabel(\"rho[gm/cm^3]\")\n",
    "plt.ylabel(\"$\\sin^2{2\\Theta}_m$\")\n",
    "plt.legend(loc=\"upper right\")\n",
    "plt.title(\"Oscillation Amplitude vs Matter density plot\")\n",
    "plt.show()"
   ]
  },
  {
   "cell_type": "code",
   "execution_count": null,
   "id": "8286247a",
   "metadata": {},
   "outputs": [],
   "source": []
  },
  {
   "cell_type": "code",
   "execution_count": null,
   "id": "b70f4d40",
   "metadata": {},
   "outputs": [],
   "source": []
  },
  {
   "cell_type": "code",
   "execution_count": null,
   "id": "5ae975f5",
   "metadata": {},
   "outputs": [],
   "source": []
  }
 ],
 "metadata": {
  "kernelspec": {
   "display_name": "Python 3 (ipykernel)",
   "language": "python",
   "name": "python3"
  },
  "language_info": {
   "codemirror_mode": {
    "name": "ipython",
    "version": 3
   },
   "file_extension": ".py",
   "mimetype": "text/x-python",
   "name": "python",
   "nbconvert_exporter": "python",
   "pygments_lexer": "ipython3",
   "version": "3.9.12"
  },
  "vscode": {
   "interpreter": {
    "hash": "916dbcbb3f70747c44a77c7bcd40155683ae19c65e1c03b4aa3499c5328201f1"
   }
  }
 },
 "nbformat": 4,
 "nbformat_minor": 5
}
