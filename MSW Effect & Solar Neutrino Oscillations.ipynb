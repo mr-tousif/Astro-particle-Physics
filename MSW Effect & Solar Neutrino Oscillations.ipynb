{
 "cells": [
  {
   "cell_type": "code",
   "execution_count": 1,
   "id": "ed91f799",
   "metadata": {},
   "outputs": [],
   "source": [
    "# Summer Research 2022\n",
    "# Project_1: Solar Neutrino Oscillation with Solar density profile \n",
    "# Goal: Understanding Solar Neutrino Oscillation with Solar density profile in the Adiabatic regime & Matter Effect\n",
    "# Tousif Reza, Grad student, Department of Physics & Astronomy, UNM\n",
    "\n"
   ]
  },
  {
   "cell_type": "markdown",
   "id": "a191a150",
   "metadata": {},
   "source": [
    "\n",
    "\n",
    "\n",
    "\n",
    "Theoretical Formalism:\n",
    "\n",
    "\n",
    "Vacuum:\n",
    "\n",
    "Transition Probability:\n",
    "$P_{\\nu_\\alpha\\to\\nu_\\beta}$ = $sin^22\\theta_{v}$ $sin^2(1.27\\frac{\\Delta m^2}{4E}L)$ ;\n",
    "Survival Probability: $P_{\\nu_\\alpha\\rightarrow\\nu_\\alpha}=1-P_{\\nu_\\alpha\\rightarrow\\nu_\\beta}$; \n",
    "\n",
    "Matter:\n",
    "\n",
    "Transition Probability:\n",
    "$P_{\\nu_\\alpha\\to\\nu_\\beta}$ = $sin^22\\theta_{m}$ $sin^2(1.27\\frac{\\Delta m^2_{m}}{4E}L)$ , Unit: L (KM), E (GeV), $\\Delta m^2(eV^2)$ ; Survival Probability: $P_{\\nu_\\alpha\\rightarrow\\nu_\\alpha}=1-P_{\\nu_\\alpha\\rightarrow\\nu_\\beta}$\n",
    "\n",
    "Total probability: $P_{\\nu_\\alpha\\rightarrow\\nu_\\alpha}+P_{\\nu_\\alpha\\rightarrow\\nu_\\beta}$= 1,     $\\nu_{\\alpha}\\rightarrow \\nu_{\\beta} =\\nu_{l}; l\\rightarrow e,\\mu,\\tau $\n",
    "\n",
    "$\\Delta m^2_{m}=\\Delta m^2\\times{\\sqrt((\\sin^2{2\\theta})+(\\cos{2\\theta}-A)^2)}$\n",
    "\n",
    "$\\Delta m^2_{m} = \\Delta m^2_{2m}-\\Delta m^2_{1m}$ = Mass splittings in Matter;\n",
    "\n",
    "$\\Delta m^2 = \\Delta m^2_{2}-\\Delta m^2_{1}$ = Mass splittings in Vacuum\n",
    "\n",
    "$\\Delta m^2_{2m}=\\frac{1}{2}{\\Delta m^2\\times{\\sqrt((\\sin^2{2\\theta})+(\\cos{2\\theta}-A)^2)}}$,\n",
    "$\\Delta m^2_{1m}=-\\frac{1}{2}{\\Delta m^2\\times{\\sqrt((\\sin^2{2\\theta})+(\\cos{2\\theta}-A)^2)}}$"
   ]
  },
  {
   "cell_type": "code",
   "execution_count": 2,
   "id": "5316dfce",
   "metadata": {},
   "outputs": [],
   "source": [
    "# We want to understand the oscillation probabilty with solar density profile\n",
    "\n",
    "# We will go through the both numerical solution and the anylytical solution for oscillation probability\n",
    "\n",
    "\n",
    "# Code for Oscillation probability "
   ]
  },
  {
   "cell_type": "code",
   "execution_count": 3,
   "id": "a2fcde38",
   "metadata": {},
   "outputs": [],
   "source": [
    "#packages we import for plotting and calculation purpose\n",
    "\n",
    "\n",
    "%matplotlib inline\n",
    "import numpy as np\n",
    "import scipy as sp\n",
    "import math\n",
    "import matplotlib.pyplot as plt"
   ]
  },
  {
   "cell_type": "code",
   "execution_count": 4,
   "id": "7d601058",
   "metadata": {},
   "outputs": [],
   "source": [
    "# Relation of Oscillation Amplitude in Matter and Vacuum\n",
    "\n",
    "#All the expressions shown in here has been derived using Neutrino Oscillation in Vacuum and Matter formalism"
   ]
  },
  {
   "cell_type": "markdown",
   "id": "1d50afaa",
   "metadata": {},
   "source": [
    "$\\sin2\\theta_{m}=\\frac{\\sin2\\theta_{v}}{\\sqrt((\\sin^2{2\\theta})+(\\cos{2\\theta}-A)^2)}$ ;  $\\theta_{m}$= Mixing angle in matter and $\\theta_{v}= \\theta$ = Mixing angle in vacuum\n",
    "\n",
    "\n",
    "$\\cos2\\theta_{m}=\\frac{\\cos2\\theta_{v}-A}{\\sqrt((\\sin^2{2\\theta})+(\\cos{2\\theta}-A)^2)}$\n",
    "\n",
    "\n",
    "$\\tan2\\theta_{m}=\\frac{\\sin2\\theta_{v}}{\\cos2\\theta_{v}-A}$ \n",
    "\n",
    "Resonance Condition:  $A=\\frac{2EV}{\\Delta{m}^2}=\\cos2\\theta_{v}$\n",
    "\n"
   ]
  },
  {
   "cell_type": "markdown",
   "id": "98ae595d",
   "metadata": {},
   "source": [
    "Parameters of choice:\n",
    "$\\Delta m^{2} = 10^{-5} eV^2$, E = 10 MeV, and $\\theta_{v} = 34^\\circ$."
   ]
  },
  {
   "cell_type": "code",
   "execution_count": 5,
   "id": "a4e30057",
   "metadata": {},
   "outputs": [],
   "source": [
    "#delta_m_sqr=1e-5      #solar mass splittings  #unit eV^2\n",
    "\n",
    "#E=10e6                    #Neutrino Energy of 1 MeV used for the analysis\n",
    "\n",
    "#R_s=6.96*1e5             #Sun's radius\n",
    "\n",
    "#N_A=6.023*1e23             #Avogadro number \n",
    "\n",
    "#L=np.linspace(0, R_s,100)   #distance from solar core to the sun's surface\n",
    "                            #unit: KM"
   ]
  },
  {
   "cell_type": "code",
   "execution_count": 6,
   "id": "dbad8b82",
   "metadata": {},
   "outputs": [],
   "source": [
    "# Matter potential V is a function of Electron number density \n",
    "# Electron number density N_e in sun varies with the distance L,\n",
    "# N_e is the function of distance L  i.e N_e(L)\n",
    "# V=sqrt(2)*G_F*N_e \n",
    "# N_e=245*N_A*exp(-10.54*L/R_s) unit 1/cm^3\n",
    "# L is the distance\n",
    "# R_s  is the solar radius\n",
    "# N_A is the avogadro number"
   ]
  },
  {
   "cell_type": "code",
   "execution_count": 7,
   "id": "587472fd",
   "metadata": {},
   "outputs": [],
   "source": [
    "\n",
    "#V=np.sqrt(2)*1.166*1.21*27*245*N_A*np.exp(-10.54*L/R_s)*1e-38 #unit eV  #1e-38 multiplied for conversion to eV"
   ]
  },
  {
   "cell_type": "code",
   "execution_count": 8,
   "id": "f0203cb3",
   "metadata": {},
   "outputs": [],
   "source": [
    "#theta=np.radians(34)"
   ]
  },
  {
   "cell_type": "code",
   "execution_count": 9,
   "id": "fa7f5b7d",
   "metadata": {},
   "outputs": [],
   "source": [
    "# We can also calculate the oscillation probability solving TDSE\n",
    "\n",
    "\n",
    "#TDSE: Time dependent schorodinger equation\n",
    "\n",
    "\n",
    "\n",
    "# In natural limit the distance is equivalent to time; x = t"
   ]
  },
  {
   "cell_type": "markdown",
   "id": "a7fdaa76",
   "metadata": {},
   "source": [
    "\n",
    "$i\\frac{d}{dx}\\left(\\begin{array}{c}\n",
    "a_{e}\\\\\n",
    "a_{\\mu}\n",
    "\\end{array}\\right)=\\frac{1}{4E}\\left(\\begin{array}{cc}\n",
    "2\\sqrt{2}EG_{F}N_{e}-\\Delta m^{2}\\,\\mathrm{cos}2\\theta_{v} & \\Delta m^{2}\\,\\mathrm{sin}2\\theta_{v}\\\\\n",
    "\\Delta m^{2}\\,\\mathrm{sin}2\\theta_{v} & -2\\sqrt{2}EG_{F}N_{e}+\\Delta m^{2}\\,\\mathrm{cos}2\\theta_{v}\n",
    "\\end{array}\\right)\\left(\\begin{array}{c}\n",
    "a_{e}\\\\\n",
    "a_{\\mu}\n",
    "\\end{array}\\right)$\n",
    "\n",
    "\n",
    "I have taken $\\theta_{v}=\\theta$"
   ]
  },
  {
   "cell_type": "markdown",
   "id": "a07c9893",
   "metadata": {},
   "source": [
    "\n",
    "\n",
    "\n",
    "\n",
    "We can re-write the above equation as,\n",
    "\n",
    "\n",
    "$i\\frac{d}{dx}\\left(\\begin{array}{c}\n",
    "a_{e}\\\\\n",
    "a_{\\mu}\n",
    "\\end{array}\\right)=H_{matter}\\left(\\begin{array}{c}\n",
    "a_{e}\\\\\n",
    "a_{\\mu}\n",
    "\\end{array}\\right)$\n",
    "\n",
    "\n",
    "\n"
   ]
  },
  {
   "cell_type": "markdown",
   "id": "742c26d3",
   "metadata": {},
   "source": [
    "Where,\n",
    "$H_{matter}=H_{vacuum}+V=\\frac{\\Delta{m}^2}{4E}\\begin{bmatrix} -(\\cos{2\\theta}-A) & \\sin{2\\theta}\\\\\\sin{2\\theta} & (\\cos{2\\theta}-A) \\end{bmatrix},\n",
    "\\begin{equation}\n",
    "A=\\frac{2EV}{\\Delta m^2},\n",
    "V=\\sqrt{2}G_{F}N_{e}\\end{equation}$\n"
   ]
  },
  {
   "cell_type": "code",
   "execution_count": 10,
   "id": "1f312b66",
   "metadata": {},
   "outputs": [],
   "source": [
    "\n",
    "#Code to solve TDSE\n"
   ]
  },
  {
   "cell_type": "code",
   "execution_count": 12,
   "id": "89581cd0",
   "metadata": {},
   "outputs": [],
   "source": [
    "%matplotlib inline\n",
    "import numpy as np\n",
    "import scipy as sp\n",
    "import math\n",
    "import matplotlib.pyplot as plt\n",
    "from scipy.integrate import solve_ivp \n",
    "\n"
   ]
  },
  {
   "cell_type": "code",
   "execution_count": 13,
   "id": "8c25f4c9",
   "metadata": {},
   "outputs": [],
   "source": [
    "hbarc = 197*1e-18                            #Unit: MeV * Km\n",
    "theta = np.radians(34)                     #theta= 34 degrees\n",
    "delta_m_sqr = (7.56*1e-5*1e-12)/hbarc**2        # Mass Splitting , unit: 1/Km^2\n",
    "E = 14/hbarc                                 # Energy unit: 1/Km\n",
    "R_s = 6.96*1e5                               # Radius of Sun unit: Km\n",
    "N_A = 6.023*1e23                             # Avagadro Number\n",
    "G_F = (1.166e-5*hbarc**2)/(1e6)                # Fermi coupling constant Unit: Km**2"
   ]
  },
  {
   "cell_type": "code",
   "execution_count": 14,
   "id": "15c3cbbe",
   "metadata": {},
   "outputs": [],
   "source": [
    "B=delta_m_sqr/(4*E)\n",
    "factor = -1j*B\n",
    "c=np.cos(2*theta)\n",
    "s=np.sin(2*theta)\n",
    "\n",
    "#Number density of electrons at any distance x at the sun\n",
    "def N_e(r):\n",
    "    return 245*N_A*np.exp(-10.54*(r/R_s))*1e15 #unit: 1/km^3   \n",
    "                    \n",
    "# Differential equations\n",
    "\n",
    "def function(x, y):      #y is the two component wavefuntion contains electron and muon type neutrinos\n",
    "                    #x is the distance equivalent to time in natarul limit\n",
    "    a_e = y[0]\n",
    "    a_mu = y[1]\n",
    "  \n",
    "\n",
    "    V=np.sqrt(2)*G_F*N_e(x)\n",
    "\n",
    "\n",
    "    A=(2*E*V)/(delta_m_sqr)                     #delta_m_sqr=Mass splittings square\n",
    "                                               #E= Neutrino Energy\n",
    "                    \n",
    "\n",
    "    da_edx = factor*(-(c-A)*a_e + s*a_mu)\n",
    "    da_mudx = factor*(s*a_e + (c-A)*a_mu)\n",
    "    \n",
    "    return [da_edx, da_mudx]\n",
    "\n",
    "\n",
    "\n",
    "y0 = [1+0j, 0+0j]    # initial condition\n",
    "\n"
   ]
  },
  {
   "cell_type": "code",
   "execution_count": 15,
   "id": "77dbe8d4",
   "metadata": {},
   "outputs": [],
   "source": [
    "#Integrating over the sun's radius"
   ]
  },
  {
   "cell_type": "code",
   "execution_count": 16,
   "id": "6f3467b4",
   "metadata": {},
   "outputs": [],
   "source": [
    "x = np.linspace(0, R_s,500)    #Distance from solar core to sun's surface\n"
   ]
  },
  {
   "cell_type": "code",
   "execution_count": 17,
   "id": "9f0844d8",
   "metadata": {},
   "outputs": [],
   "source": [
    "# Integration using Solve_ivp module"
   ]
  },
  {
   "cell_type": "code",
   "execution_count": 18,
   "id": "db2d9217",
   "metadata": {},
   "outputs": [],
   "source": [
    "solution_1= solve_ivp(function, t_span=(0, R_s), y0=y0, t_eval=x,rtol=1e-6, atol=1e-6)"
   ]
  },
  {
   "cell_type": "code",
   "execution_count": 19,
   "id": "8bf6fd13",
   "metadata": {},
   "outputs": [
    {
     "data": {
      "image/png": "[encoded data removed]",
      "text/plain": [
       "<Figure size 432x288 with 1 Axes>"
      ]
     },
     "metadata": {
      "needs_background": "light"
     },
     "output_type": "display_data"
    }
   ],
   "source": [
    "plt.plot(solution_1.t,np.abs(solution_1.y[0])**2,\"y-\",label=\"Survival Prob\")\n",
    "plt.plot(solution_1.t,np.abs(solution_1.y[1])**2,\"g-\",label=\"transition prob\")\n",
    "plt.plot(solution_1.t,np.abs(solution_1.y[0])**2+np.abs(solution_1.y[1])**2,\"r\",label=\"total prob\")\n",
    "plt.legend(loc=\"lower right\",edgecolor='black')\n",
    "plt.xlabel(\"Distance[Km]\")\n",
    "plt.ylabel(\"Oscillation Probability\")\n",
    "plt.minorticks_on()\n",
    "plt.show()"
   ]
  },
  {
   "cell_type": "markdown",
   "id": "8332f082",
   "metadata": {},
   "source": [
    "Comments:\n",
    "\n",
    "In the above plot we can see survival probability is decreases  and transition  probability is increases that means some of the electron neutrino that is produced initially at the core of the sun is now gets converted to non electron neutrino flavor (i.e muon neutrino) during the propagation through the sun. Hence the survival probabilty is decreasing but the total probability is always conserved in a closed quantum system  which is unity. That's what we expect physically! \n",
    "\n",
    "Here closed quantum system means we  have taken sun as our system and we are not taking kind of interactions from the outside of the system means physical properties of the system is not disturbed by the outside environment.  So its a closed evolution where we should get probabilty equal to unity. "
   ]
  },
  {
   "cell_type": "code",
   "execution_count": null,
   "id": "5f7c5215",
   "metadata": {},
   "outputs": [],
   "source": [
    "# We are also interested to see the Analytical Solution for the oscillation probability\n",
    "\n",
    "\n",
    "#Adiabatic Approximation:"
   ]
  },
  {
   "cell_type": "markdown",
   "id": "fc00a0ce",
   "metadata": {},
   "source": [
    "In the sun the density of electrons is not constant. However, if the variation is sufficiently slow, the\n",
    "eigenstates will change slowly with the density, and we can assume that the neutrino produced in an\n",
    "eigenstate in the center of the sun, remains in the same eigenstate along the trajectory. This is the so-\n",
    "called adiabatic approximation."
   ]
  },
  {
   "cell_type": "markdown",
   "id": "5ad37f72",
   "metadata": {},
   "source": [
    "Survival Probability of electron type neutrino is:\n",
    "$P_{\\nu_e\\to\\nu_{e}} = \\frac{1}{2}+\\frac{1}{2}(cos2\\theta(x)cos2\\theta_{i})=\\frac{1}{2}+\\frac{1}{2}(factor_{1} factor_{2})$\n",
    "\n",
    "Note: In the adiabatic limit I have calculated Survival Probability of electron type neutrino starting from core to the surface of the sun x=R_s"
   ]
  },
  {
   "cell_type": "markdown",
   "id": "6645ba49",
   "metadata": {},
   "source": [
    "$\\sin2\\theta(x)=\\frac{\\sin2\\theta_{v}}{\\sqrt((\\sin^2{2\\theta})+(\\cos{2\\theta}-A)^2)}$ ;  $\\theta_{m}=\\theta_{i}$= Mixing angle in matter and $\\theta_{v}= \\theta$ = Mixing angle in vacuum\n",
    "\n",
    "\n",
    "$\\cos2\\theta(x)=\\frac{\\cos2\\theta_{v}-A(x)}{\\sqrt((\\sin^2{2\\theta})+(\\cos{2\\theta}-A(x))^2)}$\n",
    "\n",
    "$\\cos2\\theta_{i}(x=0)=\\frac{\\cos2\\theta_{v}-A(x=0)}{\\sqrt((\\sin^2{2\\theta})+(\\cos{2\\theta}-A(x=0))^2)}$ \n",
    "\n",
    "$A=A(x)=\\frac{2EV(x)}{\\Delta{m}^2}=\\cos2\\theta_{v}$\n",
    "\n",
    "Comments:\n",
    "\n",
    "x=0 tells the center of the sun where neutrino is produced, i.e electron type neutrino produced at center.\n",
    "\n",
    "\n",
    "\n",
    "Survival Probability of electron type neutrino any distance x>R_s:\n",
    "\n",
    "\n",
    "\n",
    "$P_{\\nu_e\\to\\nu_{e}} = \\frac{1}{2}+\\frac{1}{2}(cos2\\theta_{v}cos2\\theta_{i})$ simply $\\theta(x)=\\theta_{v}$\n"
   ]
  },
  {
   "cell_type": "code",
   "execution_count": null,
   "id": "ca37f1d4",
   "metadata": {},
   "outputs": [],
   "source": [
    "def Survival_prob(r):\n",
    "    \n",
    "    # theta=np.radians(34)     #Thata= 34 degrees\n",
    "    \n",
    "    # c=np.cos(2*theta)\n",
    "    \n",
    "    # s=np.sin(2*theta)\n",
    "    \n",
    "    # E=10e6             #neutrino energy in unit eV\n",
    "    \n",
    "    # delta_m_sqr=7.56*1e-5 #unit eV^2\n",
    "    \n",
    "    # R_s=6.96*1e5    #sun's radius in KM\n",
    "    \n",
    "    # N_A=6.023*1e23             #Avogadro number \n",
    "    \n",
    "    # L=np.linspace(0, R_s,100)   #distance from solar core to the sun's surface\n",
    "                                #unit: KM\n",
    "    \n",
    "    V_1 = np.sqrt(2)*G_F*N_e(r)\n",
    "    V_2 = np.sqrt(2)*G_F*N_e(0)\n",
    "\n",
    "    # V_1=np.sqrt(2)*1.166*1.21*27*245*N_A*np.exp(-10.54*L/R_s)*1e-38 #unit eV  #1e-38 multiplied for conversion to eV\n",
    "    \n",
    "    # V_2=np.sqrt(2)*1.166*1.21*27*245*N_A*1e-38   #unit: eV\n",
    "    \n",
    "    A_1=(2*E*V_1)/(delta_m_sqr)              #A_1 and A_2 is dimensionless quantity:(eV*eV/eV^2)\n",
    "    \n",
    "    A_2=(2*E*V_2)/delta_m_sqr\n",
    "    \n",
    "    factor_2=(c-A_2)/(np.sqrt(s**2+(c-A_2)**2))\n",
    "\n",
    "    factor_1=(c-A_1)/(np.sqrt(s**2+(c-A_1)**2))\n",
    "    \n",
    "    P=(1/2)+((1/2)*factor_1*factor_2) #Unit: L(KM), E(eV), delta_m_sq(eV^2)\n",
    "    P_1=1-P                                        #Trnsition probability\n",
    "  \n",
    "    return P                                      #P: Survival Probability in Matter\n",
    "                                                              "
   ]
  },
  {
   "cell_type": "code",
   "execution_count": null,
   "id": "3f457b73",
   "metadata": {},
   "outputs": [],
   "source": [
    "L=np.linspace(0, R_s,100)  #Km  #distance from solar core to the sun's surface"
   ]
  },
  {
   "cell_type": "code",
   "execution_count": null,
   "id": "e6561c11",
   "metadata": {},
   "outputs": [
    {
     "data": {
      "text/plain": [
       "<matplotlib.legend.Legend at 0x7fa499b6d4f0>"
      ]
     },
     "execution_count": 23,
     "metadata": {},
     "output_type": "execute_result"
    },
    {
     "data": {
      "image/png": "[encoded data removed]",
      "text/plain": [
       "<Figure size 432x288 with 1 Axes>"
      ]
     },
     "metadata": {
      "needs_background": "light"
     },
     "output_type": "display_data"
    }
   ],
   "source": [
    "plt.plot(L,Survival_prob(L),\"r-\",label=\"Survival prob_Analytical Sol\")\n",
    "plt.plot(solution_1.t,np.abs(solution_1.y[0])**2,\"g-\",label=\"Survival Prob_Numerical sol\")\n",
    "plt.xlabel(\"Solar Distance[KM]\")\n",
    "plt.ylabel(\"Neutrino Survival Probability\")\n",
    "plt.legend(loc=\"upper right\")"
   ]
  },
  {
   "cell_type": "markdown",
   "id": "2b10c745",
   "metadata": {},
   "source": [
    "Comments:\n",
    "\n",
    "In the above figure we have plotted oscillation probabilty of electron type neutrinos that were produced at center of the solar core at high density travelled all the way to radius of the sun. We can see the surviaval probability of the electron neutrinos calculated both numerically and analytically is in pretty good agreement."
   ]
  },
  {
   "cell_type": "code",
   "execution_count": null,
   "id": "cc200693",
   "metadata": {},
   "outputs": [
    {
     "data": {
      "text/plain": [
       "<matplotlib.legend.Legend at 0x7fa4c8d4b760>"
      ]
     },
     "execution_count": 24,
     "metadata": {},
     "output_type": "execute_result"
    },
    {
     "data": {
      "image/png": "[encoded data removed]",
      "text/plain": [
       "<Figure size 432x288 with 1 Axes>"
      ]
     },
     "metadata": {
      "needs_background": "light"
     },
     "output_type": "display_data"
    }
   ],
   "source": [
    "plt.plot(L,Survival_prob(L),\"r-\")\n",
    "plt.plot(L,1-Survival_prob(L),\"r-\",label=\"Analytical Solution\")\n",
    "plt.plot(solution_1.t,np.abs(solution_1.y[0])**2,\"g-\",label=\"Survival Prob_Numerical solution\")\n",
    "plt.plot(solution_1.t,np.abs(solution_1.y[1])**2,\"y-\",label=\"transition Prob_Numerical solution\")\n",
    "plt.xlabel(\"Solar Distance[KM]\")\n",
    "plt.ylabel(\"Neutrino oscillation Probability\")\n",
    "plt.legend(loc=\"upper right\")"
   ]
  },
  {
   "cell_type": "code",
   "execution_count": null,
   "id": "72c3cc05",
   "metadata": {},
   "outputs": [],
   "source": [
    "# Adiabatic Approximation \n"
   ]
  },
  {
   "cell_type": "markdown",
   "id": "4586b799",
   "metadata": {},
   "source": [
    "Adiabatic Condition:\n",
    "$\\gamma_c>>1$\n",
    "\n",
    "$\\gamma_c=\\gamma(x_c)=\\frac{\\sin^22\\theta}{\\cos2\\theta}\\frac{\\Delta m^2}{2E}\\left|\\frac{1}{\\frac{dN_e(x)}{N_e(x)  dx}}\\right|$\n",
    " \n",
    " \n",
    " \n",
    "Solar density profile:\n",
    "\n",
    "$N_e(x)=245 N_{A} e^-(10.54x/R_s)$,  unit  $\\frac{1}{cm^3}$\n",
    "\n",
    "$\\left|\\frac{1}{\\frac{dN_e(x)}{N_e(x)  dx}}\\right|=\\frac{R_s}{10.54}$\n",
    "\n",
    "\n"
   ]
  },
  {
   "cell_type": "code",
   "execution_count": null,
   "id": "ff2a790a",
   "metadata": {},
   "outputs": [],
   "source": [
    "#Calculating Gamma_c under the Adiabatic Approximation"
   ]
  },
  {
   "cell_type": "markdown",
   "id": "5a52a2a2",
   "metadata": {},
   "source": [
    "$\\gamma_c=\\gamma(x_c)=\\frac{\\sin^22\\theta}{\\cos2\\theta}\\frac{\\Delta m^2}{2E}\\frac{R_s}{10.54}$\n",
    "\n"
   ]
  },
  {
   "cell_type": "code",
   "execution_count": null,
   "id": "9dbc0194",
   "metadata": {},
   "outputs": [],
   "source": [
    "#Unit: gamma_c is a deimensionless quantity\n",
    "\n",
    "#R_s in KM and delta_m_sqr  is eV^2 and Energy is in MeV\n",
    "\n",
    "#Need to convert R_s in KM unit to eV in order make gamma_c dimensionless\n",
    "\n",
    "#Unit conversion factor:\n",
    "\n",
    "#hbarc=197 MeV fm \n",
    "\n",
    "#natural unit hbarc=1\n",
    "\n",
    "#using that, (1 fm) = 10^-18 km = 1/(197* MeV) => 1 km = 1/(10^-18*197*10^6 eV)=(10^12/197) (1/eV)\n",
    "\n",
    "\n",
    "\n",
    "#1 eV= 10^12/(197) 1/km\n",
    "\n",
    "\n",
    "#1/km = 197/10^12  eV\n",
    "\n",
    "\n",
    "#fm=10^-15 m=10^-18 km"
   ]
  },
  {
   "cell_type": "code",
   "execution_count": null,
   "id": "63d67d74",
   "metadata": {},
   "outputs": [],
   "source": [
    "#Value of gamma at resonance is gamma_c\n",
    "\n",
    "#Value of gamma_c under adiabatic condition is >> 1\n",
    "\n",
    "gamma_c=(s**2/c)*(delta_m_sqr/(2*E))*(R_s/10.54)"
   ]
  },
  {
   "cell_type": "code",
   "execution_count": null,
   "id": "9b43bc83",
   "metadata": {},
   "outputs": [
    {
     "data": {
      "text/plain": [
       "2076.9329224536564"
      ]
     },
     "execution_count": 29,
     "metadata": {},
     "output_type": "execute_result"
    }
   ],
   "source": [
    "gamma_c       # gamma_c is >> 1"
   ]
  },
  {
   "cell_type": "code",
   "execution_count": null,
   "id": "8d0dd8d0",
   "metadata": {},
   "outputs": [],
   "source": [
    "#Using the value of gamma_c we can plot delta_m_sqr/E for varying Amplitude....>>varying theta\n",
    "\n",
    "#s=sin(2theta) and c=cos(2theta) will change for differnt theta values\n",
    "\n",
    "\n",
    "\n",
    "\n",
    "#Since I already using theta,s and c variable so better to assign another name to avoid conflict in the code\n",
    "\n",
    "#Taking theta_1, s_1 and c_1\n",
    "#s=sin(2theta) ........  >> s_1=sin(2theta_1)\n",
    "#c=cos(2theta).......... >> c_1=cos(2theta_1)"
   ]
  },
  {
   "cell_type": "code",
   "execution_count": null,
   "id": "5dd4cb01",
   "metadata": {},
   "outputs": [],
   "source": [
    "# s_1=np.sin(2*theta_1)**2"
   ]
  },
  {
   "cell_type": "code",
   "execution_count": null,
   "id": "6bf3e8d7",
   "metadata": {},
   "outputs": [],
   "source": [
    "s_1=np.linspace(8*1e-5,1,100)   #Amplitude in vacuum"
   ]
  },
  {
   "cell_type": "code",
   "execution_count": null,
   "id": "09299b28",
   "metadata": {},
   "outputs": [],
   "source": [
    "theta_1=np.arcsin(np.sqrt(s_1))/2"
   ]
  },
  {
   "cell_type": "code",
   "execution_count": null,
   "id": "1075bc8e",
   "metadata": {},
   "outputs": [],
   "source": [
    "c_1=np.cos(2*theta_1) "
   ]
  },
  {
   "cell_type": "markdown",
   "id": "01d9ae91",
   "metadata": {},
   "source": [
    "Using the below equation:\n",
    "\n",
    "$\\gamma_c=\\gamma(x_c)=\\frac{\\sin^22\\theta}{\\cos2\\theta}\\frac{\\Delta m^2}{2E}\\frac{R_s}{10.54}$\n",
    "\n",
    "\n",
    "$\\frac {\\Delta m^2}{E}=2\\gamma_c \\frac{10.54}{R_s}\\frac{\\cos2\\theta}{\\sin^22\\theta}$    ............(*)\n",
    "\n",
    "\n",
    "Let's say,\n",
    "\n",
    "Ratio_1 = $\\frac {\\Delta m^2}{E}$\n",
    "\n"
   ]
  },
  {
   "cell_type": "code",
   "execution_count": null,
   "id": "b995b5a3",
   "metadata": {},
   "outputs": [],
   "source": [
    "#Unit:\n",
    "\n",
    "# Ratio_1 is delta_m_sqr/Energy , unit is eV^2/MeV = eV^2/(10^6 eV)= eV/10^6   #Neutrino of 1 MeV energy used\n",
    "\n",
    "# here R_s is in Km, gamma_c and cos and sin term are dimensionless so, \n",
    "\n",
    "#unit in the right hand side of equation (*) is 1/R_s=1/Km ,\n",
    "\n",
    "#Need to convert Km to eV\n",
    "\n",
    "#1 eV= 10^12/(197) 1/km\n",
    "\n",
    "#left hand side of equation (*)is eV/10^6 so right hand side should be eV/10^6 \n",
    "\n",
    "# right hand side unit : 1/Km =197/10^12 eV =197/10^6 eV/10^6\n",
    "\n",
    "# multiplication factor is: 197/10^6 \n",
    "\n",
    "\n"
   ]
  },
  {
   "cell_type": "code",
   "execution_count": null,
   "id": "b9172dce",
   "metadata": {},
   "outputs": [],
   "source": [
    "gamma = 3.0\n",
    "E = 1/hbarc # neutrino energy 1 MeV (in km^-1)\n",
    "Ratio_1=((2*gamma*E*(10.54/R_s)*c_1)/(s_1)) * hbarc**2 * 1e12 #Adiabatic condition  "
   ]
  },
  {
   "cell_type": "markdown",
   "id": "193874be",
   "metadata": {},
   "source": [
    "Resonance Condition:\n",
    "\n",
    "$A=A(x)=\\frac{2EV}{\\Delta{m}^2}=\\cos2\\theta_{v}$\n",
    " \n",
    "$V=V(x)=\\sqrt{2}G_{F}N_{e}(x)$;\n",
    "\n",
    "$N_e(x)=\\frac{\\Delta m^2 \\cos2\\theta }{2{\\sqrt 2} G_F E}$  \n",
    "\n",
    "$\\frac{\\Delta m^2}{E}=\\frac{2\\sqrt{2}G_F N_e(x)}{\\cos2{\\theta}}$      ..........(**)\n",
    "\n",
    "$N_e$ is electron number density which is function of distance x i.e N(x)\n",
    "\n",
    "\n",
    "$N_e(x)=245 N_{A} e^-(10.54x/R_s)$,  unit  $\\frac{1}{cm^3}$\n",
    "\n",
    "\n",
    "Taking $N_e(x=0)=245 N_{A}$   Solar core\n",
    "\n",
    "$\\frac{\\Delta m^2}{E}=\\frac{2\\sqrt{2}G_F N_e(x=0)}{\\cos2{\\theta}}$    = Ratio_2  ..........(***)\n"
   ]
  },
  {
   "cell_type": "code",
   "execution_count": null,
   "id": "8b58b616",
   "metadata": {},
   "outputs": [],
   "source": [
    "# G_F is in GeV^-2 , N_e(x) in 1/cm^3, E in MeV and delta_m_sqr in eV^2\n",
    "\n",
    "#1/cm^3= 10^15 1/km^3\n",
    "\n",
    "#1/km = 197/10^12  eV\n",
    "\n",
    "# It follow from above unit conversion that 1 eV=10^12/(197) 1/km\n",
    "\n",
    "#Left hand side of (**): Unit is eV^2/MeV = eV^2/MeV =eV/10^6\n",
    "\n",
    "#right hand side of (**):\n",
    "\n",
    "#Unit,(GeV^-2)*1/Km^3=(GeV^-2)*(197/10^12)^3 eV^3=(197^3/10^36)GeV^-2 *eV^3=(197^3/10^54) eV=(197^3/10^48) eV/10^6\n",
    "\n",
    "\n",
    "#However equation (***) gets simple at solar core at x=0\n",
    "\n",
    "#Unit: right hand side= GeV^-2 *1/cm^3, left hand side eV/10^6\n",
    "\n",
    "#right hand side unit has to be in eV/10^6\n",
    "\n",
    "#right hand side unit: GeV^-2*(hbarc*c)^3 =GeV^-2*(1.066*10^-34 J.s)^3*(3*10^10)^3=10^-18 eV^-2*(1.066*10^-34/1.6*10^-19)^3*(27*10^30) eV^3\n",
    "\n",
    "#solving right hand side we have, 10^-33*27*(1.066/1.6)^3 eV= 10^-27*(27)*(1.066/1.6)^3  eV/10^6\n",
    "\n",
    "#Conversion factor= 10^-27*(27)*(1.066/1.6)^3  "
   ]
  },
  {
   "cell_type": "code",
   "execution_count": null,
   "id": "b46c609d",
   "metadata": {},
   "outputs": [],
   "source": [
    "#Resonance Condition\n",
    "#We have taken the electron number density at x=0 i.e solar core where electron neutrino is produced\n",
    "#At the core, there is no level crossing happens because of the very high density, no oscillations!\n",
    "\n",
    "\n",
    "# Ratio_2=(2*np.sqrt(2)*245*N_A*(G_F/c_1))*(9.78*1e-27) #unit: eV^2/MeV=eV/10^6 \n",
    "\n",
    "Ratio_2 = 2*np.sqrt(2)*G_F*N_e(0)*E/c_1 * hbarc**2 * 1e12"
   ]
  },
  {
   "cell_type": "code",
   "execution_count": null,
   "id": "441446f9",
   "metadata": {},
   "outputs": [
    {
     "data": {
      "text/plain": [
       "(8e-09, 0.0001)"
      ]
     },
     "execution_count": 39,
     "metadata": {},
     "output_type": "execute_result"
    },
    {
     "data": {
      "image/png": "[encoded data removed]",
      "text/plain": [
       "<Figure size 432x288 with 1 Axes>"
      ]
     },
     "metadata": {
      "needs_background": "light"
     },
     "output_type": "display_data"
    }
   ],
   "source": [
    "plt.plot(s_1,Ratio_2, \"r-\",label=\"Resonance condition\",)\n",
    "plt.loglog(s_1,Ratio_1,\"g-\", label=\"Adiabatic Condition\")\n",
    "plt.xlabel(\"$\\sin^22\\Theta$\")\n",
    "plt.ylabel(\"$\\dfrac{\\Delta m^2}{E} [eV^2/MeV]$\")\n",
    "plt.legend(loc=\"lower left\")\n",
    "plt.title(\"MSW conversion for a neutrino produced at sun center.\")\n",
    "plt.xlim(8e-5, 1)\n",
    "plt.ylim(8e-9, 1e-4)"
   ]
  }
 ],
 "metadata": {
  "kernelspec": {
   "display_name": "Python 3 (ipykernel)",
   "language": "python",
   "name": "python3"
  },
  "language_info": {
   "codemirror_mode": {
    "name": "ipython",
    "version": 3
   },
   "file_extension": ".py",
   "mimetype": "text/x-python",
   "name": "python",
   "nbconvert_exporter": "python",
   "pygments_lexer": "ipython3",
   "version": "3.9.12"
  },
  "vscode": {
   "interpreter": {
    "hash": "31f2aee4e71d21fbe5cf8b01ff0e069b9275f58929596ceb00d14d90e3e16cd6"
   }
  }
 },
 "nbformat": 4,
 "nbformat_minor": 5
}
